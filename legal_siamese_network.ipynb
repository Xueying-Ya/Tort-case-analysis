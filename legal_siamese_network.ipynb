{
  "cells": [
    {
      "cell_type": "code",
      "execution_count": null,
      "metadata": {
        "execution": {
          "iopub.execute_input": "2021-06-06T15:44:14.796759Z",
          "iopub.status.busy": "2021-06-06T15:44:14.796178Z",
          "iopub.status.idle": "2021-06-06T15:44:15.457318Z",
          "shell.execute_reply": "2021-06-06T15:44:15.456760Z",
          "shell.execute_reply.started": "2021-06-05T19:05:11.877554Z"
        },
        "id": "veMNrl1c1_-D",
        "outputId": "4e14eed1-f7f0-4efd-b3da-8f5bd644aaed",
        "papermill": {
          "duration": 0.683745,
          "end_time": "2021-06-06T15:44:15.457529",
          "exception": false,
          "start_time": "2021-06-06T15:44:14.773784",
          "status": "completed"
        },
        "tags": []
      },
      "outputs": [
        {
          "name": "stdout",
          "output_type": "stream",
          "text": [
            "Sun Jun  6 15:44:15 2021       \r\n",
            "+-----------------------------------------------------------------------------+\r\n",
            "| NVIDIA-SMI 450.51.06    Driver Version: 450.51.06    CUDA Version: 11.0     |\r\n",
            "|-------------------------------+----------------------+----------------------+\r\n",
            "| GPU  Name        Persistence-M| Bus-Id        Disp.A | Volatile Uncorr. ECC |\r\n",
            "| Fan  Temp  Perf  Pwr:Usage/Cap|         Memory-Usage | GPU-Util  Compute M. |\r\n",
            "|                               |                      |               MIG M. |\r\n",
            "|===============================+======================+======================|\r\n",
            "|   0  Tesla P100-PCIE...  Off  | 00000000:00:04.0 Off |                    0 |\r\n",
            "| N/A   39C    P0    29W / 250W |      0MiB / 16280MiB |      0%      Default |\r\n",
            "|                               |                      |                  N/A |\r\n",
            "+-------------------------------+----------------------+----------------------+\r\n",
            "                                                                               \r\n",
            "+-----------------------------------------------------------------------------+\r\n",
            "| Processes:                                                                  |\r\n",
            "|  GPU   GI   CI        PID   Type   Process name                  GPU Memory |\r\n",
            "|        ID   ID                                                   Usage      |\r\n",
            "|=============================================================================|\r\n",
            "|  No running processes found                                                 |\r\n",
            "+-----------------------------------------------------------------------------+\r\n"
          ]
        }
      ],
      "source": [
        "!nvidia-smi"
      ]
    },
    {
      "cell_type": "code",
      "execution_count": null,
      "metadata": {
        "execution": {
          "iopub.execute_input": "2021-06-06T15:44:15.501708Z",
          "iopub.status.busy": "2021-06-06T15:44:15.501059Z",
          "iopub.status.idle": "2021-06-06T15:44:20.847773Z",
          "shell.execute_reply": "2021-06-06T15:44:20.846755Z",
          "shell.execute_reply.started": "2021-06-05T19:05:12.671236Z"
        },
        "id": "alpine-retention",
        "papermill": {
          "duration": 5.372089,
          "end_time": "2021-06-06T15:44:20.847919",
          "exception": false,
          "start_time": "2021-06-06T15:44:15.475830",
          "status": "completed"
        },
        "tags": []
      },
      "outputs": [],
      "source": [
        "import json\n",
        "from IPython.display import Image, display_png\n",
        "import numpy as np\n",
        "from numpy.random import seed\n",
        "import pandas as pd\n",
        "from tqdm import tqdm\n",
        "import tensorflow as tf\n",
        "import tensorflow.keras.backend as K\n",
        "from sklearn.preprocessing import LabelEncoder\n",
        "import sklearn.model_selection\n",
        "from sklearn.model_selection import train_test_split\n",
        "from sklearn.metrics import classification_report, precision_recall_fscore_support, f1_score, precision_score, recall_score, confusion_matrix\n",
        "from collections import Counter\n",
        "from tqdm import tqdm\n",
        "import pandas as pd\n",
        "from tensorflow import keras\n",
        "from tensorflow.keras import layers , regularizers\n",
        "from tensorflow.keras.models import Sequential\n",
        "from tensorflow.keras.layers import Dense , Bidirectional , LSTM, GlobalMaxPool1D\n",
        "from tensorflow.keras.layers import Dropout,MaxPooling1D,Lambda\n",
        "from tensorflow.keras.preprocessing.text import Tokenizer\n",
        "from tensorflow.keras.preprocessing.sequence import pad_sequences\n",
        "from tensorflow.keras.models import Sequential, load_model, Model\n",
        "from tensorflow.keras.utils import plot_model\n",
        "from tensorflow.keras.layers import Embedding\n",
        "from tensorflow. keras.layers import Flatten, Dropout, Activation, Input, Dense, concatenate, GRU, Conv1D"
      ]
    },
    {
      "cell_type": "code",
      "execution_count": null,
      "metadata": {
        "execution": {
          "iopub.execute_input": "2021-06-06T15:44:20.889120Z",
          "iopub.status.busy": "2021-06-06T15:44:20.888005Z",
          "iopub.status.idle": "2021-06-06T15:44:20.890938Z",
          "shell.execute_reply": "2021-06-06T15:44:20.890498Z",
          "shell.execute_reply.started": "2021-06-05T19:05:19.09454Z"
        },
        "id": "dimensional-weight",
        "outputId": "bb90cb2d-955d-479a-d5d8-3316bb319c31",
        "papermill": {
          "duration": 0.025216,
          "end_time": "2021-06-06T15:44:20.891043",
          "exception": false,
          "start_time": "2021-06-06T15:44:20.865827",
          "status": "completed"
        },
        "tags": []
      },
      "outputs": [
        {
          "name": "stdout",
          "output_type": "stream",
          "text": [
            "2.4.1\n"
          ]
        }
      ],
      "source": [
        "print(tf.__version__)"
      ]
    },
    {
      "cell_type": "code",
      "execution_count": null,
      "metadata": {
        "execution": {
          "iopub.execute_input": "2021-06-06T15:44:21.124511Z",
          "iopub.status.busy": "2021-06-06T15:44:21.123980Z",
          "iopub.status.idle": "2021-06-06T15:44:21.127668Z",
          "shell.execute_reply": "2021-06-06T15:44:21.127138Z",
          "shell.execute_reply.started": "2021-06-05T19:05:19.185571Z"
        },
        "papermill": {
          "duration": 0.025105,
          "end_time": "2021-06-06T15:44:21.127771",
          "exception": false,
          "start_time": "2021-06-06T15:44:21.102666",
          "status": "completed"
        },
        "tags": [],
        "id": "Rg8PRWrSlVMe"
      },
      "outputs": [],
      "source": [
        "idx = {251 : 'ประมวลกฎหมายวิธีพิจารณาความแพ่ง 55',\n",
        "692 : 'ประมวลกฎหมายแพ่งและพาณิชย์ 425',\n",
        "704 : 'ประมวลกฎหมายแพ่งและพาณิชย์ 438',\n",
        "154 : 'ประมวลกฎหมายวิธีพิจารณาความแพ่ง 172',\n",
        "135 : 'ประมวลกฎหมายวิธีพิจารณาความแพ่ง 142',\n",
        "715 : 'ประมวลกฎหมายแพ่งและพาณิชย์ 448',\n",
        "688 : 'ประมวลกฎหมายแพ่งและพาณิชย์ 421',\n",
        "202 : 'ประมวลกฎหมายวิธีพิจารณาความแพ่ง 249',\n",
        "100 : 'ประมวลกฎหมายวิธีพิจารณาความอาญา 46',\n",
        "417 :  'ประมวลกฎหมายแพ่งและพาณิชย์ 1336'}"
      ]
    },
    {
      "cell_type": "code",
      "execution_count": null,
      "metadata": {
        "execution": {
          "iopub.execute_input": "2021-06-06T15:44:21.168123Z",
          "iopub.status.busy": "2021-06-06T15:44:21.166579Z",
          "iopub.status.idle": "2021-06-06T15:44:21.168777Z",
          "shell.execute_reply": "2021-06-06T15:44:21.169173Z",
          "shell.execute_reply.started": "2021-06-05T19:05:19.204338Z"
        },
        "papermill": {
          "duration": 0.023527,
          "end_time": "2021-06-06T15:44:21.169285",
          "exception": false,
          "start_time": "2021-06-06T15:44:21.145758",
          "status": "completed"
        },
        "tags": [],
        "id": "2t5h7qaxlVMg"
      },
      "outputs": [],
      "source": [
        "sorted_idx = list(idx.keys())"
      ]
    },
    {
      "cell_type": "code",
      "execution_count": null,
      "metadata": {
        "execution": {
          "iopub.execute_input": "2021-06-06T15:44:21.211691Z",
          "iopub.status.busy": "2021-06-06T15:44:21.210631Z",
          "iopub.status.idle": "2021-06-06T15:44:21.214079Z",
          "shell.execute_reply": "2021-06-06T15:44:21.214518Z",
          "shell.execute_reply.started": "2021-06-05T19:05:19.21868Z"
        },
        "papermill": {
          "duration": 0.027609,
          "end_time": "2021-06-06T15:44:21.214637",
          "exception": false,
          "start_time": "2021-06-06T15:44:21.187028",
          "status": "completed"
        },
        "tags": [],
        "id": "JwO1zouSlVMh",
        "outputId": "ea6b02d6-b86e-4a66-8b58-8a7d51125af9"
      },
      "outputs": [
        {
          "data": {
            "text/plain": [
              "[251, 692, 704, 154, 135, 715, 688, 202, 100, 417]"
            ]
          },
          "execution_count": 10,
          "metadata": {},
          "output_type": "execute_result"
        }
      ],
      "source": [
        "sorted_idx[0:10]"
      ]
    },
    {
      "cell_type": "markdown",
      "source": [
        "# Processing data functions"
      ],
      "metadata": {
        "id": "srZPQcRSmHbk"
      }
    },
    {
      "cell_type": "code",
      "execution_count": null,
      "metadata": {
        "execution": {
          "iopub.execute_input": "2021-06-06T15:44:21.036065Z",
          "iopub.status.busy": "2021-06-06T15:44:21.034968Z",
          "iopub.status.idle": "2021-06-06T15:44:21.037823Z",
          "shell.execute_reply": "2021-06-06T15:44:21.037406Z",
          "shell.execute_reply.started": "2021-06-05T19:05:19.155118Z"
        },
        "id": "recognized-paste",
        "papermill": {
          "duration": 0.026685,
          "end_time": "2021-06-06T15:44:21.037917",
          "exception": false,
          "start_time": "2021-06-06T15:44:21.011232",
          "status": "completed"
        },
        "tags": []
      },
      "outputs": [],
      "source": [
        "def process_input(num_words, X_train, X_test, X_dev):\n",
        "    \n",
        "    tokenizer = tf.keras.preprocessing.text.Tokenizer(num_words=num_words, oov_token='<UNK>')\n",
        "    tokenizer.fit_on_texts(X_train)\n",
        "\n",
        "    #convert text data to numerical indexes\n",
        "    train_seqs = tokenizer.texts_to_sequences(X_train)\n",
        "    dev_seqs = tokenizer.texts_to_sequences(X_dev)\n",
        "    test_seqs = tokenizer.texts_to_sequences(X_test)\n",
        "\n",
        "    max_sequnce_len = max([len(x) for x in train_seqs])\n",
        "\n",
        "    train_seqs = tf.keras.preprocessing.sequence.pad_sequences(train_seqs, maxlen=max_sequnce_len, padding=\"post\")\n",
        "    test_seqs=tf.keras.preprocessing.sequence.pad_sequences(test_seqs, maxlen=max_sequnce_len, padding=\"post\")\n",
        "    dev_seqs=tf.keras.preprocessing.sequence.pad_sequences(dev_seqs, maxlen=max_sequnce_len, padding=\"post\")\n",
        "\n",
        "    return  train_seqs, test_seqs, dev_seqs, max_sequnce_len, tokenizer"
      ]
    },
    {
      "cell_type": "code",
      "execution_count": null,
      "metadata": {
        "execution": {
          "iopub.execute_input": "2021-06-06T15:44:21.081731Z",
          "iopub.status.busy": "2021-06-06T15:44:21.081078Z",
          "iopub.status.idle": "2021-06-06T15:44:21.084846Z",
          "shell.execute_reply": "2021-06-06T15:44:21.084409Z",
          "shell.execute_reply.started": "2021-06-05T19:05:19.16993Z"
        },
        "papermill": {
          "duration": 0.029411,
          "end_time": "2021-06-06T15:44:21.084943",
          "exception": false,
          "start_time": "2021-06-06T15:44:21.055532",
          "status": "completed"
        },
        "tags": [],
        "id": "jAWAdkYflVMe"
      },
      "outputs": [],
      "source": [
        "def process_input_combined(num_words, X_train, X_dev, X_test):\n",
        "    \n",
        "    tokenizer = tf.keras.preprocessing.text.Tokenizer(num_words=num_words, oov_token='<UNK>')\n",
        "    X_combined = list(X_train[:, 0]) + list(X_train[:, 1])\n",
        "    tokenizer.fit_on_texts(X_combined)\n",
        "\n",
        "    #convert text data to numerical indexes\n",
        "    train_seqs1 = tokenizer.texts_to_sequences(X_train[:, 0])\n",
        "    train_seqs2 = tokenizer.texts_to_sequences(X_train[:, 1])\n",
        "    \n",
        "    dev_seqs1 = tokenizer.texts_to_sequences(X_dev[:, 0])\n",
        "    dev_seqs2 = tokenizer.texts_to_sequences(X_dev[:, 1])\n",
        "    \n",
        "    test_seqs1 = tokenizer.texts_to_sequences(X_test[:, 0])\n",
        "    test_seqs2 = tokenizer.texts_to_sequences(X_test[:, 1])\n",
        "    \n",
        "    max_len = max([len(x) for x in train_seqs1 + train_seqs2])\n",
        "\n",
        "    train_seqs1 = tf.keras.preprocessing.sequence.pad_sequences(train_seqs1, maxlen=max_len, padding=\"post\")\n",
        "    test_seqs1=tf.keras.preprocessing.sequence.pad_sequences(test_seqs1, maxlen=max_len, padding=\"post\")\n",
        "    dev_seqs1 =tf.keras.preprocessing.sequence.pad_sequences(dev_seqs1, maxlen=max_len, padding=\"post\")\n",
        "    \n",
        "    train_seqs2 = tf.keras.preprocessing.sequence.pad_sequences(train_seqs2, maxlen=max_len, padding=\"post\")\n",
        "    test_seqs2=tf.keras.preprocessing.sequence.pad_sequences(test_seqs2, maxlen=max_len, padding=\"post\")\n",
        "    dev_seqs2 =tf.keras.preprocessing.sequence.pad_sequences(dev_seqs2, maxlen=max_len, padding=\"post\")\n",
        "\n",
        "    return  train_seqs1, train_seqs2, dev_seqs1, dev_seqs2, test_seqs1, test_seqs2, max_len, tokenizer"
      ]
    },
    {
      "cell_type": "code",
      "execution_count": null,
      "metadata": {
        "execution": {
          "iopub.execute_input": "2021-06-06T15:44:20.936936Z",
          "iopub.status.busy": "2021-06-06T15:44:20.936260Z",
          "iopub.status.idle": "2021-06-06T15:44:20.939319Z",
          "shell.execute_reply": "2021-06-06T15:44:20.939713Z",
          "shell.execute_reply.started": "2021-06-05T19:05:19.107541Z"
        },
        "id": "GFII31iP2xLN",
        "papermill": {
          "duration": 0.03086,
          "end_time": "2021-06-06T15:44:20.939835",
          "exception": false,
          "start_time": "2021-06-06T15:44:20.908975",
          "status": "completed"
        },
        "tags": []
      },
      "outputs": [],
      "source": [
        "def multi_input_proportional_generator(datasets,\n",
        "                                       label,\n",
        "                                       p=[0.1, 0.9],\n",
        "                                       batch_size=128):\n",
        "    # p indicate number of class and sampling prob\n",
        "    while (True):\n",
        "        batch_data = [[], []]\n",
        "        batch_label = []\n",
        "        sample_id = np.random.choice(len(p), batch_size, p=p)\n",
        "        query_idx = [\n",
        "            np.where(label == class_id)[0] for class_id in range(len(p))\n",
        "        ]\n",
        "        for class_id in sample_id:\n",
        "            query_id = np.random.choice(query_idx[class_id], 1)[0]\n",
        "            batch_data[0].append(datasets[0][query_id])\n",
        "            batch_data[1].append(datasets[1][query_id])\n",
        "            batch_label.append(label[query_id])\n",
        "        batch_data[0] = np.array(batch_data[0])\n",
        "        batch_data[1] = np.array(batch_data[1])\n",
        "        yield batch_data, np.array(batch_label)\n",
        "        \n",
        "def load_fasttext_fast(word_index, max_words, embed_size,file_name = \"../input/word-vec-thai/cc.th.300.vec\"):\n",
        "    EMBEDDING_FILE = file_name\n",
        "    emb_mean, emb_std = -0.0033470048, 0.109855264\n",
        "\n",
        "    embedding_matrix = np.random.normal(emb_mean, emb_std, (max_words, embed_size))\n",
        "    with open(EMBEDDING_FILE, 'r', encoding=\"utf8\") as f:       \n",
        "        for line in f:\n",
        "            if len(line) <= 100:\n",
        "                continue\n",
        "            word, vec = line.split(' ', 1)\n",
        "            if word not in word_index:\n",
        "                continue\n",
        "            i = word_index[word]\n",
        "            if i >= max_words:\n",
        "                continue\n",
        "            embedding_vector = np.asarray(vec.split(' '), dtype='float32')[:300]\n",
        "            if len(embedding_vector) == 300:\n",
        "                embedding_matrix[i] = embedding_vector\n",
        "    return embedding_matrix"
      ]
    },
    {
      "cell_type": "code",
      "execution_count": null,
      "metadata": {
        "execution": {
          "iopub.execute_input": "2021-06-06T15:44:21.256645Z",
          "iopub.status.busy": "2021-06-06T15:44:21.256095Z",
          "iopub.status.idle": "2021-06-06T15:44:21.259500Z",
          "shell.execute_reply": "2021-06-06T15:44:21.259081Z",
          "shell.execute_reply.started": "2021-06-05T19:05:19.235876Z"
        },
        "papermill": {
          "duration": 0.026969,
          "end_time": "2021-06-06T15:44:21.259604",
          "exception": false,
          "start_time": "2021-06-06T15:44:21.232635",
          "status": "completed"
        },
        "tags": [],
        "id": "lmJc-N6VlVMh"
      },
      "outputs": [],
      "source": [
        "def get_data(file = '../input/zero-shot-legal-03042021/filt_df.pickle'):\n",
        "    X = [] \n",
        "    Y = []\n",
        "    legal_encoded_seq = []\n",
        "    filt_df = pd.read_pickle(file)\n",
        "    for i,row in filt_df.iterrows():\n",
        "        x = row['plaintiff_token']\n",
        "        x2 = row['legal_content_token']\n",
        "        legal_encoded = row['legal_encoded']\n",
        "        X.append([x, x2,legal_encoded])\n",
        "        Y.append(row['label'])\n",
        "        legal_encoded_seq.append(row['legal_encoded'])\n",
        "    X = np.array(X ,dtype=object)\n",
        "    Y = np.array(Y)\n",
        "    print('X:'+ str(X.shape),'Y:'+str(Y.shape),'legal_encoded_seq: ' + str(len(legal_encoded_seq)))\n",
        "    return X,Y,legal_encoded_seq"
      ]
    },
    {
      "cell_type": "code",
      "execution_count": null,
      "metadata": {
        "execution": {
          "iopub.execute_input": "2021-06-06T15:44:21.304975Z",
          "iopub.status.busy": "2021-06-06T15:44:21.303072Z",
          "iopub.status.idle": "2021-06-06T15:44:21.307620Z",
          "shell.execute_reply": "2021-06-06T15:44:21.307130Z",
          "shell.execute_reply.started": "2021-06-05T19:05:19.247534Z"
        },
        "papermill": {
          "duration": 0.029907,
          "end_time": "2021-06-06T15:44:21.307717",
          "exception": false,
          "start_time": "2021-06-06T15:44:21.277810",
          "status": "completed"
        },
        "tags": [],
        "id": "_ZoaJIs-lVMi"
      },
      "outputs": [],
      "source": [
        "def split_by_id(file = '../input/zero-shot-legal-03042021/filt_df.pickle'):\n",
        "    filter_df = pd.read_pickle(file)\n",
        "    train_indx, rest_indx = next(sklearn.model_selection.GroupShuffleSplit(test_size=.30, n_splits=2, random_state = 42).split(filter_df, groups=filter_df['case_id']))\n",
        "    rest_df = filter_df.iloc[rest_indx]\n",
        "    dev_indx,test_indx = next(sklearn.model_selection.GroupShuffleSplit(test_size=.50, n_splits=2, random_state = 42).split(rest_df, groups=rest_df['case_id']))\n",
        "\n",
        "    train = filter_df.iloc[train_indx]\n",
        "    dev = rest_df.iloc[dev_indx]\n",
        "    test = rest_df.iloc[test_indx]\n",
        "    \n",
        "    def get_data_by_id(df):\n",
        "        X = [] \n",
        "        Y = []\n",
        "    \n",
        "        for i,row in df.iterrows():\n",
        "            x = row['plaintiff_token']\n",
        "            x2 = row['legal_content_token']\n",
        "            legal_encoded = row['legal_encoded']\n",
        "            X.append([x, x2,legal_encoded])\n",
        "            Y.append(row['label'])\n",
        "        X = np.array(X ,dtype=object)\n",
        "        Y = np.array(Y)\n",
        "        print('X:'+ str(X.shape),'Y:'+str(Y.shape),'legal_encoded_seq:' + str(len(X[:, 2])))\n",
        "        return X,Y\n",
        "    \n",
        "    X_train,Y_train = get_data_by_id(train)\n",
        "    X_dev,Y_dev = get_data_by_id(dev)\n",
        "    X_test,Y_test = get_data_by_id(test)\n",
        "\n",
        "    return X_train,Y_train,X_dev,Y_dev,X_test,Y_test\n",
        "    "
      ]
    },
    {
      "cell_type": "markdown",
      "source": [
        "# Model functions"
      ],
      "metadata": {
        "id": "mwBniuXJnhmy"
      }
    },
    {
      "cell_type": "code",
      "execution_count": null,
      "metadata": {
        "execution": {
          "iopub.execute_input": "2021-06-06T15:44:21.436886Z",
          "iopub.status.busy": "2021-06-06T15:44:21.436351Z",
          "iopub.status.idle": "2021-06-06T15:44:21.440050Z",
          "shell.execute_reply": "2021-06-06T15:44:21.439388Z",
          "shell.execute_reply.started": "2021-06-05T19:05:19.292964Z"
        },
        "papermill": {
          "duration": 0.024714,
          "end_time": "2021-06-06T15:44:21.440153",
          "exception": false,
          "start_time": "2021-06-06T15:44:21.415439",
          "status": "completed"
        },
        "tags": [],
        "id": "s7hYEQWolVMk"
      },
      "outputs": [],
      "source": [
        "BATCH_SIZE=64\n",
        "EPOCHS = 5\n",
        "NUM_WORDS=8000\n",
        "embedding_size = 300\n",
        "lr = 3e-4"
      ]
    },
    {
      "cell_type": "code",
      "execution_count": null,
      "metadata": {
        "execution": {
          "iopub.execute_input": "2021-06-06T15:44:21.481511Z",
          "iopub.status.busy": "2021-06-06T15:44:21.480974Z",
          "iopub.status.idle": "2021-06-06T15:44:21.485374Z",
          "shell.execute_reply": "2021-06-06T15:44:21.485760Z",
          "shell.execute_reply.started": "2021-06-05T19:05:19.303922Z"
        },
        "papermill": {
          "duration": 0.027747,
          "end_time": "2021-06-06T15:44:21.485876",
          "exception": false,
          "start_time": "2021-06-06T15:44:21.458129",
          "status": "completed"
        },
        "tags": [],
        "id": "hvM3qhZZlVMk",
        "outputId": "8dcf5298-2c4b-4aa8-f44e-eb19edf90ff2"
      },
      "outputs": [
        {
          "data": {
            "text/plain": [
              "[{'epochs': 10, 'lr': 0.0001},\n",
              " {'epochs': 10, 'lr': 0.001},\n",
              " {'epochs': 10, 'lr': 0.1},\n",
              " {'epochs': 15, 'lr': 0.0001},\n",
              " {'epochs': 15, 'lr': 0.001},\n",
              " {'epochs': 15, 'lr': 0.1},\n",
              " {'epochs': 32, 'lr': 0.0001},\n",
              " {'epochs': 32, 'lr': 0.001},\n",
              " {'epochs': 32, 'lr': 0.1}]"
            ]
          },
          "execution_count": 16,
          "metadata": {},
          "output_type": "execute_result"
        }
      ],
      "source": [
        "from sklearn.model_selection import ParameterGrid\n",
        "\n",
        "parameters = {'epochs': [10 , 15 , 32],\n",
        "             'lr' : [0.0001,0.001 , 0.1]}\n",
        "\n",
        "list(ParameterGrid(parameters))"
      ]
    },
    {
      "cell_type": "code",
      "execution_count": null,
      "metadata": {
        "execution": {
          "iopub.execute_input": "2021-06-06T15:44:21.570520Z",
          "iopub.status.busy": "2021-06-06T15:44:21.569972Z",
          "iopub.status.idle": "2021-06-06T15:44:21.573605Z",
          "shell.execute_reply": "2021-06-06T15:44:21.573197Z",
          "shell.execute_reply.started": "2021-06-05T19:05:19.325995Z"
        },
        "papermill": {
          "duration": 0.026651,
          "end_time": "2021-06-06T15:44:21.573706",
          "exception": false,
          "start_time": "2021-06-06T15:44:21.547055",
          "status": "completed"
        },
        "tags": [],
        "id": "qkjKig1olVMl"
      },
      "outputs": [],
      "source": [
        "def cnn_model(input_shape,embeddings,embedding_dim):\n",
        "    model_input = Input(shape=(input_shape,))\n",
        "    layer = Embedding(len(embeddings), \n",
        "                 embedding_dim, \n",
        "                 weights=[embeddings], \n",
        "                 input_length=max_len, \n",
        "                 trainable=False,\n",
        "                 mask_zero = True)(model_input)\n",
        "    layer = Conv1D(filters=80,kernel_size=15,activation='relu')(layer)\n",
        "    layer = MaxPooling1D(pool_size=2)(layer)\n",
        "    output = Flatten()(layer)\n",
        "    \n",
        "    model = Model(inputs=model_input, outputs=output)\n",
        "    model.summary()\n",
        "    return model"
      ]
    },
    {
      "cell_type": "code",
      "execution_count": null,
      "metadata": {
        "execution": {
          "iopub.execute_input": "2021-06-06T15:44:21.616648Z",
          "iopub.status.busy": "2021-06-06T15:44:21.615215Z",
          "iopub.status.idle": "2021-06-06T15:44:21.617182Z",
          "shell.execute_reply": "2021-06-06T15:44:21.618039Z",
          "shell.execute_reply.started": "2021-06-05T19:05:19.337783Z"
        },
        "papermill": {
          "duration": 0.026161,
          "end_time": "2021-06-06T15:44:21.618154",
          "exception": false,
          "start_time": "2021-06-06T15:44:21.591993",
          "status": "completed"
        },
        "tags": [],
        "id": "WwPXpcxxlVMm"
      },
      "outputs": [],
      "source": [
        "def gru_model(input_shape,embeddings,embedding_dim):\n",
        "    model_input = Input(shape=(input_shape,))\n",
        "    layer = Embedding(len(embeddings), \n",
        "                 embedding_dim, \n",
        "                 weights=[embeddings], \n",
        "                 input_length=max_len, \n",
        "                 trainable=False,\n",
        "                 mask_zero = True)(model_input)\n",
        "    layer = GRU(80, activation='relu')(layer)\n",
        "    layer = Dropout(0.5)(layer)\n",
        "    output = Flatten()(layer)\n",
        "    \n",
        "    model = Model(inputs=model_input, outputs=output)\n",
        "    model.summary()\n",
        "    return model"
      ]
    },
    {
      "cell_type": "code",
      "execution_count": null,
      "metadata": {
        "execution": {
          "iopub.execute_input": "2021-06-06T15:44:21.660839Z",
          "iopub.status.busy": "2021-06-06T15:44:21.659555Z",
          "iopub.status.idle": "2021-06-06T15:44:21.661849Z",
          "shell.execute_reply": "2021-06-06T15:44:21.662269Z",
          "shell.execute_reply.started": "2021-06-05T19:05:19.351063Z"
        },
        "papermill": {
          "duration": 0.026032,
          "end_time": "2021-06-06T15:44:21.662377",
          "exception": false,
          "start_time": "2021-06-06T15:44:21.636345",
          "status": "completed"
        },
        "tags": [],
        "id": "bG-XgKrLlVMm"
      },
      "outputs": [],
      "source": [
        "def lstm_model(input_shape,embeddings,embedding_dim):\n",
        "    model_input = Input(shape=(input_shape,))\n",
        "    layer = Embedding(len(embeddings), \n",
        "                 embedding_dim, \n",
        "                 weights=[embeddings], \n",
        "                 input_length=max_len, \n",
        "                 trainable=False,\n",
        "                 mask_zero = True)(model_input)\n",
        "    layer = LSTM(80, activation='relu')(layer)\n",
        "    layer = Dropout(0.5)(layer)\n",
        "    output = Flatten()(layer)\n",
        "    \n",
        "    model = Model(inputs=model_input, outputs=output)\n",
        "    model.summary()\n",
        "    return model"
      ]
    },
    {
      "cell_type": "markdown",
      "source": [
        "# Evaluation functions"
      ],
      "metadata": {
        "id": "U3XPX0Ozmbwj"
      }
    },
    {
      "cell_type": "code",
      "execution_count": null,
      "metadata": {
        "execution": {
          "iopub.execute_input": "2021-06-06T15:44:21.396327Z",
          "iopub.status.busy": "2021-06-06T15:44:21.394690Z",
          "iopub.status.idle": "2021-06-06T15:44:21.396900Z",
          "shell.execute_reply": "2021-06-06T15:44:21.397292Z",
          "shell.execute_reply.started": "2021-06-05T19:05:19.278587Z"
        },
        "papermill": {
          "duration": 0.026157,
          "end_time": "2021-06-06T15:44:21.397418",
          "exception": false,
          "start_time": "2021-06-06T15:44:21.371261",
          "status": "completed"
        },
        "tags": [],
        "id": "sfH_HrZ1lVMj"
      },
      "outputs": [],
      "source": [
        "def euclidean_distance(vects):\n",
        "    x, y = vects\n",
        "    return K.sqrt(K.sum(K.square(x - y), axis=1, keepdims=True))\n",
        "\n",
        "def eucl_dist_output_shape(shapes):\n",
        "    shape1, shape2 = shapes\n",
        "    return (shape1[0], 1)\n",
        "\n",
        "def cosine_distance(vects):\n",
        "    x, y= vects\n",
        "    x = K.l2_normalize(x, axis=-1)\n",
        "    y = K.l2_normalize(y, axis=-1)\n",
        "    return -K.mean(x * y, axis=-1, keepdims=True)\n",
        "\n",
        "def cosine_dist_output_shape(shapes):\n",
        "    shape1, shape2 = shapes\n",
        "    return (shape1[0], 1)"
      ]
    },
    {
      "cell_type": "code",
      "execution_count": null,
      "metadata": {
        "execution": {
          "iopub.execute_input": "2021-06-06T15:44:20.991786Z",
          "iopub.status.busy": "2021-06-06T15:44:20.990659Z",
          "iopub.status.idle": "2021-06-06T15:44:20.993466Z",
          "shell.execute_reply": "2021-06-06T15:44:20.993057Z",
          "shell.execute_reply.started": "2021-06-05T19:05:19.128537Z"
        },
        "id": "rcrTQVhb4ocL",
        "papermill": {
          "duration": 0.036131,
          "end_time": "2021-06-06T15:44:20.993568",
          "exception": false,
          "start_time": "2021-06-06T15:44:20.957437",
          "status": "completed"
        },
        "tags": []
      },
      "outputs": [],
      "source": [
        "def recall(y_true, y_pred):\n",
        "    true_positives = K.sum(K.round(K.clip(y_true * y_pred, 0, 1)))\n",
        "    possible_positives = K.sum(K.round(K.clip(y_true, 0, 1)))\n",
        "    recall = true_positives / (possible_positives + K.epsilon())\n",
        "    return recall\n",
        "\n",
        "\n",
        "def precision(y_true, y_pred):\n",
        "    true_positives = K.sum(K.round(K.clip(y_true * y_pred, 0, 1)))\n",
        "    predicted_positives = K.sum(K.round(K.clip(y_pred, 0, 1)))\n",
        "    precision = true_positives / (predicted_positives + K.epsilon())\n",
        "    return precision\n",
        "\n",
        "\n",
        "def microf1(y_true, y_pred):\n",
        "\n",
        "    def recall(y_true, y_pred):\n",
        "        true_positives = K.sum(K.round(K.clip(y_true * y_pred, 0, 1)))\n",
        "        possible_positives = K.sum(K.round(K.clip(y_true, 0, 1)))\n",
        "        recall = true_positives / (possible_positives + K.epsilon())\n",
        "        return recall\n",
        "\n",
        "    def precision(y_true, y_pred):\n",
        "        true_positives = K.sum(K.round(K.clip(y_true * y_pred, 0, 1)))\n",
        "        predicted_positives = K.sum(K.round(K.clip(y_pred, 0, 1)))\n",
        "        precision = true_positives / (predicted_positives + K.epsilon())\n",
        "        return precision\n",
        "\n",
        "    precision = precision(y_true, y_pred)\n",
        "    recall = recall(y_true, y_pred)\n",
        "    return 2 * ((precision * recall) / (precision + recall + K.epsilon()))\n",
        "\n",
        "\n",
        "def macrof1(y_true, y_pred):\n",
        "    y_pred = K.round(y_pred)\n",
        "    tp = K.sum(K.cast(y_true * y_pred, 'float'), axis=0)\n",
        "    # tn = K.sum(K.cast((1-y_true)*(1-y_pred), 'float'), axis=0)\n",
        "    fp = K.sum(K.cast((1 - y_true) * y_pred, 'float'), axis=0)\n",
        "    fn = K.sum(K.cast(y_true * (1 - y_pred), 'float'), axis=0)\n",
        "\n",
        "    p = tp / (tp + fp + K.epsilon())\n",
        "    r = tp / (tp + fn + K.epsilon())\n",
        "\n",
        "    f1 = 2 * p * r / (p + r + K.epsilon())\n",
        "    f1 = tf.where(tf.math.is_nan(f1), tf.zeros_like(f1), f1)\n",
        "    return K.mean(f1)\n",
        "\n",
        "def contrastive_loss(y_true, y_pred):\n",
        "    margin = 1\n",
        "    return tf.cast((y_true * K.square(y_pred)\\\n",
        "            + (1 - y_true) * K.square(K.maximum(margin - y_pred, 0))),dtype=tf.float32)\n",
        "\n",
        "def accuracy2(y_true, y_pred):\n",
        "    return K.mean(tf.cast(tf.equal(y_true, tf.cast(y_pred < 0.5, dtype=tf.float32)), dtype=tf.float32))"
      ]
    },
    {
      "cell_type": "code",
      "execution_count": null,
      "metadata": {
        "execution": {
          "iopub.execute_input": "2021-06-06T15:44:21.352212Z",
          "iopub.status.busy": "2021-06-06T15:44:21.350504Z",
          "iopub.status.idle": "2021-06-06T15:44:21.352817Z",
          "shell.execute_reply": "2021-06-06T15:44:21.353212Z",
          "shell.execute_reply.started": "2021-06-05T19:05:19.26338Z"
        },
        "papermill": {
          "duration": 0.027488,
          "end_time": "2021-06-06T15:44:21.353323",
          "exception": false,
          "start_time": "2021-06-06T15:44:21.325835",
          "status": "completed"
        },
        "tags": [],
        "id": "Dcc7dzfYlVMj"
      },
      "outputs": [],
      "source": [
        "def evaluate(y_true,y_pred,legal_encoded_seq):\n",
        "    all_legal_dict = {key : {'true' : [], 'pred' : []} for key in legal_encoded_seq}\n",
        "    all_score_dict = {key : {} for key in legal_encoded_seq}\n",
        "    \n",
        "    for i in range(len(legal_encoded_seq)) :\n",
        "        true = y_true[i]\n",
        "        pred = y_pred[i]\n",
        "        legal_encoded = legal_encoded_seq[i]\n",
        "        all_legal_dict[legal_encoded]['true'].append(true)\n",
        "        all_legal_dict[legal_encoded]['pred'].append(pred)\n",
        "    \n",
        "    for key in all_legal_dict:\n",
        "        true = all_legal_dict[key]['true']\n",
        "        pred = all_legal_dict[key]['pred']\n",
        "        f1 =  f1_score(true,pred,labels=[1])\n",
        "        recall = recall_score(true,pred,labels=[1])\n",
        "        precision = precision_score(true,pred,labels=[1])\n",
        "        all_score_dict[key]['f1'] = f1\n",
        "        all_score_dict[key]['precision'] = precision\n",
        "        all_score_dict[key]['recall'] = recall\n",
        "    return all_score_dict"
      ]
    },
    {
      "cell_type": "markdown",
      "source": [
        "# Training model"
      ],
      "metadata": {
        "id": "ls58Z49GnmY4"
      }
    },
    {
      "cell_type": "code",
      "execution_count": null,
      "metadata": {
        "execution": {
          "iopub.execute_input": "2021-06-06T15:44:21.709615Z",
          "iopub.status.busy": "2021-06-06T15:44:21.706246Z",
          "iopub.status.idle": "2021-06-06T23:37:54.697025Z",
          "shell.execute_reply": "2021-06-06T23:37:54.696594Z"
        },
        "papermill": {
          "duration": 28413.016461,
          "end_time": "2021-06-06T23:37:54.697166",
          "exception": false,
          "start_time": "2021-06-06T15:44:21.680705",
          "status": "completed"
        },
        "tags": [],
        "id": "DwB5geG9lVMm",
        "outputId": "214641df-4448-40a8-c083-2573dec92abe"
      },
      "outputs": [
        {
          "name": "stdout",
          "output_type": "stream",
          "text": [
            "X:(26290, 3) Y:(26290,) legal_encoded_seq:26290\n",
            "X:(5670, 3) Y:(5670,) legal_encoded_seq:5670\n",
            "X:(5910, 3) Y:(5910,) legal_encoded_seq:5910\n",
            "Model: \"model\"\n",
            "_________________________________________________________________\n",
            "Layer (type)                 Output Shape              Param #   \n",
            "=================================================================\n",
            "input_1 (InputLayer)         [(None, 2827)]            0         \n",
            "_________________________________________________________________\n",
            "embedding (Embedding)        (None, 2827, 300)         2400000   \n",
            "_________________________________________________________________\n",
            "gru (GRU)                    (None, 80)                91680     \n",
            "_________________________________________________________________\n",
            "dropout (Dropout)            (None, 80)                0         \n",
            "_________________________________________________________________\n",
            "flatten (Flatten)            (None, 80)                0         \n",
            "=================================================================\n",
            "Total params: 2,491,680\n",
            "Trainable params: 91,680\n",
            "Non-trainable params: 2,400,000\n",
            "_________________________________________________________________\n",
            "Model: \"model_1\"\n",
            "__________________________________________________________________________________________________\n",
            "Layer (type)                    Output Shape         Param #     Connected to                     \n",
            "==================================================================================================\n",
            "input_2 (InputLayer)            [(None, 2827)]       0                                            \n",
            "__________________________________________________________________________________________________\n",
            "input_3 (InputLayer)            [(None, 2827)]       0                                            \n",
            "__________________________________________________________________________________________________\n",
            "model (Functional)              (None, 80)           2491680     input_2[0][0]                    \n",
            "                                                                 input_3[0][0]                    \n",
            "__________________________________________________________________________________________________\n",
            "euclidean_distance (Lambda)     (None, 1)            0           model[0][0]                      \n",
            "                                                                 model[1][0]                      \n",
            "__________________________________________________________________________________________________\n",
            "dense (Dense)                   (None, 1)            2           euclidean_distance[0][0]         \n",
            "==================================================================================================\n",
            "Total params: 2,491,682\n",
            "Trainable params: 91,682\n",
            "Non-trainable params: 2,400,000\n",
            "__________________________________________________________________________________________________\n"
          ]
        },
        {
          "data": {
            "image/png": "[encoded data removed]"
          },
          "metadata": {},
          "output_type": "display_data"
        },
        {
          "name": "stdout",
          "output_type": "stream",
          "text": [
            "Epoch 1/5\n",
            "410/410 [==============================] - 5588s 14s/step - loss: 0.6923 - accuracy: 0.5017 - recall: 0.9955 - precision: 0.5008 - microf1: 0.6637 - macrof1: 0.6637 - val_loss: 0.6612 - val_accuracy: 0.7340 - val_recall: 0.7789 - val_precision: 0.9123 - val_microf1: 0.8390 - val_macrof1: 0.8390\n",
            "Epoch 2/5\n",
            "410/410 [==============================] - 5578s 14s/step - loss: 0.6824 - accuracy: 0.5504 - recall: 0.8752 - precision: 0.5376 - microf1: 0.6600 - macrof1: 0.6600 - val_loss: 0.6494 - val_accuracy: 0.6011 - val_recall: 0.6046 - val_precision: 0.9275 - val_microf1: 0.7297 - val_macrof1: 0.7297\n",
            "Epoch 3/5\n",
            "410/410 [==============================] - 5622s 14s/step - loss: 0.6772 - accuracy: 0.6018 - recall: 0.6445 - precision: 0.5981 - microf1: 0.6166 - macrof1: 0.6166 - val_loss: 0.6509 - val_accuracy: 0.6001 - val_recall: 0.6009 - val_precision: 0.9288 - val_microf1: 0.7277 - val_macrof1: 0.7277\n",
            "Epoch 4/5\n",
            "410/410 [==============================] - 5627s 14s/step - loss: 0.6745 - accuracy: 0.6021 - recall: 0.6195 - precision: 0.6002 - microf1: 0.6060 - macrof1: 0.6060 - val_loss: 0.6648 - val_accuracy: 0.5819 - val_recall: 0.5791 - val_precision: 0.9284 - val_microf1: 0.7112 - val_macrof1: 0.7112\n",
            "Epoch 5/5\n",
            "410/410 [==============================] - 5648s 14s/step - loss: 0.6746 - accuracy: 0.5987 - recall: 0.6117 - precision: 0.5953 - microf1: 0.5995 - macrof1: 0.5995 - val_loss: 0.6771 - val_accuracy: 0.5881 - val_recall: 0.5876 - val_precision: 0.9263 - val_microf1: 0.7168 - val_macrof1: 0.7168\n",
            "Evaluation\n",
            "185/185 [==============================] - 260s 1s/step\n"
          ]
        }
      ],
      "source": [
        "#split data\n",
        "X_train,Y_train,X_dev,Y_dev,X_test,Y_test = split_by_id(file = '../input/zero-shot-legal-03042021/filt_df.pickle')\n",
        "    \n",
        "#process data\n",
        "train_seqs1, train_seqs2, dev_seqs1, dev_seqs2, test_seqs1, test_seqs2, max_len, tokenizer = process_input_combined(NUM_WORDS, X_train, X_dev, X_test)\n",
        "    \n",
        "#load embedding\n",
        "embedding_matrix =  load_fasttext_fast(tokenizer.word_index,NUM_WORDS,embedding_size) \n",
        " \n",
        "train_generator = multi_input_proportional_generator([train_seqs1, train_seqs2], Y_train, p=[0.5, 0.5], batch_size=BATCH_SIZE)\n",
        "validation_generator = multi_input_proportional_generator([dev_seqs1, dev_seqs2], Y_dev, batch_size=BATCH_SIZE)\n",
        "    \n",
        "\"\"\"sharing weight layer\"\"\"\n",
        "gru_model = gru_model(max_len,embedding_matrix,embedding_size)\n",
        "    \n",
        "\"\"\"2 input\"\"\"\n",
        "#input & output\n",
        "input_layer = Input(shape=(max_len,))\n",
        "input_layer2 = Input(shape=(max_len,))\n",
        "\n",
        "left_output = gru_model(input_layer)\n",
        "right_output = gru_model(input_layer2)\n",
        "\n",
        "\n",
        "#distance function\n",
        "merged = Lambda(euclidean_distance, name='euclidean_distance')\\\n",
        "([left_output, right_output])\n",
        "pred =  tf.keras.layers.Dense(1, activation='sigmoid')(merged)\n",
        "\n",
        "gru_model = tf.keras.Model(inputs=[input_layer, input_layer2], outputs=pred)\n",
        "  \n",
        "opt = tf.keras.optimizers.Adam(\n",
        "learning_rate=lr,\n",
        "name='Adam')\n",
        "\n",
        "gru_model.compile(optimizer = opt,loss=\"binary_crossentropy\", metrics=['accuracy', recall, precision, microf1, macrof1])\n",
        "gru_model.summary()\n",
        "\n",
        "tf.keras.utils.plot_model(gru_model, show_shapes=True,to_file='model.png')  \n",
        "display_png(Image('model.png'))  \n",
        "\n",
        "num_batches = int(len(train_seqs1)/BATCH_SIZE)\n",
        "    \n",
        "history = gru_model.fit(train_generator, epochs=EPOCHS, steps_per_epoch=num_batches,validation_data=validation_generator,validation_steps=num_batches,verbose = 1)\n",
        "\n",
        "print(\"Evaluation\")\n",
        "\n",
        "predictions=gru_model.predict([test_seqs1,test_seqs2], verbose=1)\n",
        "y_pred = [lst[0] for lst in predictions ]\n",
        "y_true = Y_test\n",
        "legal_encoded_seq = X_test[:, 2]\n",
        "\n"
      ]
    },
    {
      "cell_type": "code",
      "execution_count": null,
      "metadata": {
        "execution": {
          "iopub.execute_input": "2021-06-06T23:37:55.900374Z",
          "iopub.status.busy": "2021-06-06T23:37:55.899625Z",
          "iopub.status.idle": "2021-06-06T23:37:55.902306Z",
          "shell.execute_reply": "2021-06-06T23:37:55.901878Z"
        },
        "papermill": {
          "duration": 0.613703,
          "end_time": "2021-06-06T23:37:55.902437",
          "exception": false,
          "start_time": "2021-06-06T23:37:55.288734",
          "status": "completed"
        },
        "tags": [],
        "id": "sCTAWuB3lVMn"
      },
      "outputs": [],
      "source": [
        "y_pred = [1 if lst[0] > 0.5 else 0  for lst in predictions ]                                                            "
      ]
    },
    {
      "cell_type": "code",
      "execution_count": null,
      "metadata": {
        "execution": {
          "iopub.execute_input": "2021-06-06T23:37:57.077780Z",
          "iopub.status.busy": "2021-06-06T23:37:57.076755Z",
          "iopub.status.idle": "2021-06-06T23:37:57.081483Z",
          "shell.execute_reply": "2021-06-06T23:37:57.081023Z"
        },
        "papermill": {
          "duration": 0.595969,
          "end_time": "2021-06-06T23:37:57.081598",
          "exception": false,
          "start_time": "2021-06-06T23:37:56.485629",
          "status": "completed"
        },
        "tags": [],
        "id": "Wb3rF0bdlVMn",
        "outputId": "baff308e-9ae5-426a-c79d-5d1044ec42a2"
      },
      "outputs": [
        {
          "data": {
            "text/plain": [
              "array([[0.59821725],\n",
              "       [0.4500785 ],\n",
              "       [0.438361  ],\n",
              "       ...,\n",
              "       [0.4398219 ],\n",
              "       [0.44009322],\n",
              "       [0.4398124 ]], dtype=float32)"
            ]
          },
          "execution_count": 23,
          "metadata": {},
          "output_type": "execute_result"
        }
      ],
      "source": [
        "predictions"
      ]
    },
    {
      "cell_type": "code",
      "execution_count": null,
      "metadata": {
        "execution": {
          "iopub.execute_input": "2021-06-06T23:37:58.276090Z",
          "iopub.status.busy": "2021-06-06T23:37:58.275264Z",
          "iopub.status.idle": "2021-06-06T23:37:58.335411Z",
          "shell.execute_reply": "2021-06-06T23:37:58.335789Z"
        },
        "papermill": {
          "duration": 0.664598,
          "end_time": "2021-06-06T23:37:58.335924",
          "exception": false,
          "start_time": "2021-06-06T23:37:57.671326",
          "status": "completed"
        },
        "tags": [],
        "id": "8VA-u968lVMo",
        "outputId": "41758869-e319-4516-eca6-9fb9ef9b2350"
      },
      "outputs": [
        {
          "name": "stdout",
          "output_type": "stream",
          "text": [
            "{\n",
            "    \"251\": {\n",
            "        \"f1\": 0.3162393162393162,\n",
            "        \"precision\": 0.18781725888324874,\n",
            "        \"recall\": 1.0\n",
            "    },\n",
            "    \"135\": {\n",
            "        \"f1\": 0.06557377049180328,\n",
            "        \"precision\": 0.5,\n",
            "        \"recall\": 0.03508771929824561\n",
            "    },\n",
            "    \"202\": {\n",
            "        \"f1\": 0.0,\n",
            "        \"precision\": 0.0,\n",
            "        \"recall\": 0.0\n",
            "    },\n",
            "    \"692\": {\n",
            "        \"f1\": 0.25406203840472674,\n",
            "        \"precision\": 0.1455160744500846,\n",
            "        \"recall\": 1.0\n",
            "    },\n",
            "    \"154\": {\n",
            "        \"f1\": 0.18740399385560674,\n",
            "        \"precision\": 0.10338983050847457,\n",
            "        \"recall\": 1.0\n",
            "    },\n",
            "    \"715\": {\n",
            "        \"f1\": 0.0,\n",
            "        \"precision\": 0.0,\n",
            "        \"recall\": 0.0\n",
            "    },\n",
            "    \"704\": {\n",
            "        \"f1\": 0.26686656671664166,\n",
            "        \"precision\": 0.15424610051993068,\n",
            "        \"recall\": 0.9888888888888889\n",
            "    },\n",
            "    \"688\": {\n",
            "        \"f1\": 0.0,\n",
            "        \"precision\": 0.0,\n",
            "        \"recall\": 0.0\n",
            "    },\n",
            "    \"417\": {\n",
            "        \"f1\": 0.0,\n",
            "        \"precision\": 0.0,\n",
            "        \"recall\": 0.0\n",
            "    },\n",
            "    \"100\": {\n",
            "        \"f1\": 0.0,\n",
            "        \"precision\": 0.0,\n",
            "        \"recall\": 0.0\n",
            "    }\n",
            "}\n"
          ]
        }
      ],
      "source": [
        "evaluation = evaluate(y_true,y_pred,legal_encoded_seq)\n",
        "\n",
        "print(json.dumps(evaluation, indent=4))"
      ]
    },
    {
      "cell_type": "markdown",
      "source": [
        "# Result"
      ],
      "metadata": {
        "id": "phFu9nSFnsHw"
      }
    },
    {
      "cell_type": "code",
      "execution_count": null,
      "metadata": {
        "execution": {
          "iopub.execute_input": "2021-06-06T23:37:59.513820Z",
          "iopub.status.busy": "2021-06-06T23:37:59.513092Z",
          "iopub.status.idle": "2021-06-06T23:37:59.528408Z",
          "shell.execute_reply": "2021-06-06T23:37:59.527998Z"
        },
        "papermill": {
          "duration": 0.606371,
          "end_time": "2021-06-06T23:37:59.528529",
          "exception": false,
          "start_time": "2021-06-06T23:37:58.922158",
          "status": "completed"
        },
        "tags": [],
        "id": "3N678STBlVMo",
        "outputId": "4f6fec4b-85cd-4964-d263-83c10845b1c3"
      },
      "outputs": [
        {
          "name": "stdout",
          "output_type": "stream",
          "text": [
            "              precision    recall  f1-score   support\n",
            "\n",
            "           0       0.94      0.62      0.75      5349\n",
            "           1       0.15      0.62      0.24       561\n",
            "\n",
            "    accuracy                           0.62      5910\n",
            "   macro avg       0.54      0.62      0.49      5910\n",
            "weighted avg       0.86      0.62      0.70      5910\n",
            "\n"
          ]
        }
      ],
      "source": [
        "print(classification_report(Y_test,y_pred))                   "
      ]
    }
  ],
  "metadata": {
    "kernelspec": {
      "display_name": "Python 3",
      "language": "python",
      "name": "python3"
    },
    "language_info": {
      "codemirror_mode": {
        "name": "ipython",
        "version": 3
      },
      "file_extension": ".py",
      "mimetype": "text/x-python",
      "name": "python",
      "nbconvert_exporter": "python",
      "pygments_lexer": "ipython3",
      "version": "3.7.9"
    },
    "papermill": {
      "default_parameters": {},
      "duration": 28439.449429,
      "end_time": "2021-06-06T23:38:09.546462",
      "environment_variables": {},
      "exception": null,
      "input_path": "__notebook__.ipynb",
      "output_path": "__notebook__.ipynb",
      "parameters": {},
      "start_time": "2021-06-06T15:44:10.097033",
      "version": "2.2.2"
    },
    "colab": {
      "name": "legal-siamese-network.ipynb",
      "provenance": []
    }
  },
  "nbformat": 4,
  "nbformat_minor": 0
}