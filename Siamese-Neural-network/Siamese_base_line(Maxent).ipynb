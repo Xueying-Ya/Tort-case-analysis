{
  "nbformat": 4,
  "nbformat_minor": 0,
  "metadata": {
    "kernelspec": {
      "language": "python",
      "display_name": "Python 3",
      "name": "python3"
    },
    "language_info": {
      "name": "python",
      "version": "3.7.9",
      "mimetype": "text/x-python",
      "codemirror_mode": {
        "name": "ipython",
        "version": 3
      },
      "pygments_lexer": "ipython3",
      "nbconvert_exporter": "python",
      "file_extension": ".py"
    },
    "colab": {
      "name": "Siamese_base_line(Maxent).ipynb",
      "provenance": [],
      "collapsed_sections": [],
      "machine_shape": "hm",
      "include_colab_link": true
    },
    "widgets": {
      "application/vnd.jupyter.widget-state+json": {
        "7284285d93fe4108a6fe57e03cfc6424": {
          "model_module": "@jupyter-widgets/controls",
          "model_name": "HBoxModel",
          "state": {
            "_view_name": "HBoxView",
            "_dom_classes": [],
            "_model_name": "HBoxModel",
            "_view_module": "@jupyter-widgets/controls",
            "_model_module_version": "1.5.0",
            "_view_count": null,
            "_view_module_version": "1.5.0",
            "box_style": "",
            "layout": "IPY_MODEL_a7696fe106a84a50b430fdaf6d6a6afb",
            "_model_module": "@jupyter-widgets/controls",
            "children": [
              "IPY_MODEL_a38f99dc32d649d882e961c1d8dee9a2",
              "IPY_MODEL_a8b881cead5f4b08a6d04dc2f84020cc"
            ]
          },
          "model_module_version": "1.5.0"
        },
        "a7696fe106a84a50b430fdaf6d6a6afb": {
          "model_module": "@jupyter-widgets/base",
          "model_name": "LayoutModel",
          "state": {
            "_view_name": "LayoutView",
            "grid_template_rows": null,
            "right": null,
            "justify_content": null,
            "_view_module": "@jupyter-widgets/base",
            "overflow": null,
            "_model_module_version": "1.2.0",
            "_view_count": null,
            "flex_flow": null,
            "width": null,
            "min_width": null,
            "border": null,
            "align_items": null,
            "bottom": null,
            "_model_module": "@jupyter-widgets/base",
            "top": null,
            "grid_column": null,
            "overflow_y": null,
            "overflow_x": null,
            "grid_auto_flow": null,
            "grid_area": null,
            "grid_template_columns": null,
            "flex": null,
            "_model_name": "LayoutModel",
            "justify_items": null,
            "grid_row": null,
            "max_height": null,
            "align_content": null,
            "visibility": null,
            "align_self": null,
            "height": null,
            "min_height": null,
            "padding": null,
            "grid_auto_rows": null,
            "grid_gap": null,
            "max_width": null,
            "order": null,
            "_view_module_version": "1.2.0",
            "grid_template_areas": null,
            "object_position": null,
            "object_fit": null,
            "grid_auto_columns": null,
            "margin": null,
            "display": null,
            "left": null
          },
          "model_module_version": "1.2.0"
        },
        "a38f99dc32d649d882e961c1d8dee9a2": {
          "model_module": "@jupyter-widgets/controls",
          "model_name": "FloatProgressModel",
          "state": {
            "_view_name": "ProgressView",
            "style": "IPY_MODEL_5d0d690400d64a5a8f4bfcd3b522bff4",
            "_dom_classes": [],
            "description": "",
            "_model_name": "FloatProgressModel",
            "bar_style": "success",
            "max": 1,
            "_view_module": "@jupyter-widgets/controls",
            "_model_module_version": "1.5.0",
            "value": 1,
            "_view_count": null,
            "_view_module_version": "1.5.0",
            "orientation": "horizontal",
            "min": 0,
            "description_tooltip": null,
            "_model_module": "@jupyter-widgets/controls",
            "layout": "IPY_MODEL_b5e38282fe5c48eabf86c5478df55afa"
          },
          "model_module_version": "1.5.0"
        },
        "a8b881cead5f4b08a6d04dc2f84020cc": {
          "model_module": "@jupyter-widgets/controls",
          "model_name": "HTMLModel",
          "state": {
            "_view_name": "HTMLView",
            "style": "IPY_MODEL_07836c6886744ddfac3d87abc9e7162c",
            "_dom_classes": [],
            "description": "",
            "_model_name": "HTMLModel",
            "placeholder": "​",
            "_view_module": "@jupyter-widgets/controls",
            "_model_module_version": "1.5.0",
            "value": " 9932/? [07:32&lt;00:00, 21.97it/s]",
            "_view_count": null,
            "_view_module_version": "1.5.0",
            "description_tooltip": null,
            "_model_module": "@jupyter-widgets/controls",
            "layout": "IPY_MODEL_242890ba537b4a9ba46735bb10aa44cc"
          },
          "model_module_version": "1.5.0"
        },
        "5d0d690400d64a5a8f4bfcd3b522bff4": {
          "model_module": "@jupyter-widgets/controls",
          "model_name": "ProgressStyleModel",
          "state": {
            "_view_name": "StyleView",
            "_model_name": "ProgressStyleModel",
            "description_width": "initial",
            "_view_module": "@jupyter-widgets/base",
            "_model_module_version": "1.5.0",
            "_view_count": null,
            "_view_module_version": "1.2.0",
            "bar_color": null,
            "_model_module": "@jupyter-widgets/controls"
          },
          "model_module_version": "1.5.0"
        },
        "b5e38282fe5c48eabf86c5478df55afa": {
          "model_module": "@jupyter-widgets/base",
          "model_name": "LayoutModel",
          "state": {
            "_view_name": "LayoutView",
            "grid_template_rows": null,
            "right": null,
            "justify_content": null,
            "_view_module": "@jupyter-widgets/base",
            "overflow": null,
            "_model_module_version": "1.2.0",
            "_view_count": null,
            "flex_flow": null,
            "width": null,
            "min_width": null,
            "border": null,
            "align_items": null,
            "bottom": null,
            "_model_module": "@jupyter-widgets/base",
            "top": null,
            "grid_column": null,
            "overflow_y": null,
            "overflow_x": null,
            "grid_auto_flow": null,
            "grid_area": null,
            "grid_template_columns": null,
            "flex": null,
            "_model_name": "LayoutModel",
            "justify_items": null,
            "grid_row": null,
            "max_height": null,
            "align_content": null,
            "visibility": null,
            "align_self": null,
            "height": null,
            "min_height": null,
            "padding": null,
            "grid_auto_rows": null,
            "grid_gap": null,
            "max_width": null,
            "order": null,
            "_view_module_version": "1.2.0",
            "grid_template_areas": null,
            "object_position": null,
            "object_fit": null,
            "grid_auto_columns": null,
            "margin": null,
            "display": null,
            "left": null
          },
          "model_module_version": "1.2.0"
        },
        "07836c6886744ddfac3d87abc9e7162c": {
          "model_module": "@jupyter-widgets/controls",
          "model_name": "DescriptionStyleModel",
          "state": {
            "_view_name": "StyleView",
            "_model_name": "DescriptionStyleModel",
            "description_width": "",
            "_view_module": "@jupyter-widgets/base",
            "_model_module_version": "1.5.0",
            "_view_count": null,
            "_view_module_version": "1.2.0",
            "_model_module": "@jupyter-widgets/controls"
          },
          "model_module_version": "1.5.0"
        },
        "242890ba537b4a9ba46735bb10aa44cc": {
          "model_module": "@jupyter-widgets/base",
          "model_name": "LayoutModel",
          "state": {
            "_view_name": "LayoutView",
            "grid_template_rows": null,
            "right": null,
            "justify_content": null,
            "_view_module": "@jupyter-widgets/base",
            "overflow": null,
            "_model_module_version": "1.2.0",
            "_view_count": null,
            "flex_flow": null,
            "width": null,
            "min_width": null,
            "border": null,
            "align_items": null,
            "bottom": null,
            "_model_module": "@jupyter-widgets/base",
            "top": null,
            "grid_column": null,
            "overflow_y": null,
            "overflow_x": null,
            "grid_auto_flow": null,
            "grid_area": null,
            "grid_template_columns": null,
            "flex": null,
            "_model_name": "LayoutModel",
            "justify_items": null,
            "grid_row": null,
            "max_height": null,
            "align_content": null,
            "visibility": null,
            "align_self": null,
            "height": null,
            "min_height": null,
            "padding": null,
            "grid_auto_rows": null,
            "grid_gap": null,
            "max_width": null,
            "order": null,
            "_view_module_version": "1.2.0",
            "grid_template_areas": null,
            "object_position": null,
            "object_fit": null,
            "grid_auto_columns": null,
            "margin": null,
            "display": null,
            "left": null
          },
          "model_module_version": "1.2.0"
        },
        "ce76eb0605844cfbba97411cf801f19d": {
          "model_module": "@jupyter-widgets/controls",
          "model_name": "HBoxModel",
          "state": {
            "_view_name": "HBoxView",
            "_dom_classes": [],
            "_model_name": "HBoxModel",
            "_view_module": "@jupyter-widgets/controls",
            "_model_module_version": "1.5.0",
            "_view_count": null,
            "_view_module_version": "1.5.0",
            "box_style": "",
            "layout": "IPY_MODEL_9e0f8d629222453fa50c1e232b765956",
            "_model_module": "@jupyter-widgets/controls",
            "children": [
              "IPY_MODEL_b1e82c9ff2604ece98ab8e7e7c0994b6",
              "IPY_MODEL_2060c385f2d44ffdb8d44b3b8659c008"
            ]
          },
          "model_module_version": "1.5.0"
        },
        "9e0f8d629222453fa50c1e232b765956": {
          "model_module": "@jupyter-widgets/base",
          "model_name": "LayoutModel",
          "state": {
            "_view_name": "LayoutView",
            "grid_template_rows": null,
            "right": null,
            "justify_content": null,
            "_view_module": "@jupyter-widgets/base",
            "overflow": null,
            "_model_module_version": "1.2.0",
            "_view_count": null,
            "flex_flow": null,
            "width": null,
            "min_width": null,
            "border": null,
            "align_items": null,
            "bottom": null,
            "_model_module": "@jupyter-widgets/base",
            "top": null,
            "grid_column": null,
            "overflow_y": null,
            "overflow_x": null,
            "grid_auto_flow": null,
            "grid_area": null,
            "grid_template_columns": null,
            "flex": null,
            "_model_name": "LayoutModel",
            "justify_items": null,
            "grid_row": null,
            "max_height": null,
            "align_content": null,
            "visibility": null,
            "align_self": null,
            "height": null,
            "min_height": null,
            "padding": null,
            "grid_auto_rows": null,
            "grid_gap": null,
            "max_width": null,
            "order": null,
            "_view_module_version": "1.2.0",
            "grid_template_areas": null,
            "object_position": null,
            "object_fit": null,
            "grid_auto_columns": null,
            "margin": null,
            "display": null,
            "left": null
          },
          "model_module_version": "1.2.0"
        },
        "b1e82c9ff2604ece98ab8e7e7c0994b6": {
          "model_module": "@jupyter-widgets/controls",
          "model_name": "FloatProgressModel",
          "state": {
            "_view_name": "ProgressView",
            "style": "IPY_MODEL_d0e8a09d09944303bc9ed5b038cd07b6",
            "_dom_classes": [],
            "description": "",
            "_model_name": "FloatProgressModel",
            "bar_style": "success",
            "max": 1,
            "_view_module": "@jupyter-widgets/controls",
            "_model_module_version": "1.5.0",
            "value": 1,
            "_view_count": null,
            "_view_module_version": "1.5.0",
            "orientation": "horizontal",
            "min": 0,
            "description_tooltip": null,
            "_model_module": "@jupyter-widgets/controls",
            "layout": "IPY_MODEL_1f802d68a01f473c901b64569168f966"
          },
          "model_module_version": "1.5.0"
        },
        "2060c385f2d44ffdb8d44b3b8659c008": {
          "model_module": "@jupyter-widgets/controls",
          "model_name": "HTMLModel",
          "state": {
            "_view_name": "HTMLView",
            "style": "IPY_MODEL_565522f1c34d4f54a61d73a206e882fd",
            "_dom_classes": [],
            "description": "",
            "_model_name": "HTMLModel",
            "placeholder": "​",
            "_view_module": "@jupyter-widgets/controls",
            "_model_module_version": "1.5.0",
            "value": " 2298/? [01:48&lt;00:00, 21.23it/s]",
            "_view_count": null,
            "_view_module_version": "1.5.0",
            "description_tooltip": null,
            "_model_module": "@jupyter-widgets/controls",
            "layout": "IPY_MODEL_2674bd06edbe46e1813389d930b6f33c"
          },
          "model_module_version": "1.5.0"
        },
        "d0e8a09d09944303bc9ed5b038cd07b6": {
          "model_module": "@jupyter-widgets/controls",
          "model_name": "ProgressStyleModel",
          "state": {
            "_view_name": "StyleView",
            "_model_name": "ProgressStyleModel",
            "description_width": "initial",
            "_view_module": "@jupyter-widgets/base",
            "_model_module_version": "1.5.0",
            "_view_count": null,
            "_view_module_version": "1.2.0",
            "bar_color": null,
            "_model_module": "@jupyter-widgets/controls"
          },
          "model_module_version": "1.5.0"
        },
        "1f802d68a01f473c901b64569168f966": {
          "model_module": "@jupyter-widgets/base",
          "model_name": "LayoutModel",
          "state": {
            "_view_name": "LayoutView",
            "grid_template_rows": null,
            "right": null,
            "justify_content": null,
            "_view_module": "@jupyter-widgets/base",
            "overflow": null,
            "_model_module_version": "1.2.0",
            "_view_count": null,
            "flex_flow": null,
            "width": null,
            "min_width": null,
            "border": null,
            "align_items": null,
            "bottom": null,
            "_model_module": "@jupyter-widgets/base",
            "top": null,
            "grid_column": null,
            "overflow_y": null,
            "overflow_x": null,
            "grid_auto_flow": null,
            "grid_area": null,
            "grid_template_columns": null,
            "flex": null,
            "_model_name": "LayoutModel",
            "justify_items": null,
            "grid_row": null,
            "max_height": null,
            "align_content": null,
            "visibility": null,
            "align_self": null,
            "height": null,
            "min_height": null,
            "padding": null,
            "grid_auto_rows": null,
            "grid_gap": null,
            "max_width": null,
            "order": null,
            "_view_module_version": "1.2.0",
            "grid_template_areas": null,
            "object_position": null,
            "object_fit": null,
            "grid_auto_columns": null,
            "margin": null,
            "display": null,
            "left": null
          },
          "model_module_version": "1.2.0"
        },
        "565522f1c34d4f54a61d73a206e882fd": {
          "model_module": "@jupyter-widgets/controls",
          "model_name": "DescriptionStyleModel",
          "state": {
            "_view_name": "StyleView",
            "_model_name": "DescriptionStyleModel",
            "description_width": "",
            "_view_module": "@jupyter-widgets/base",
            "_model_module_version": "1.5.0",
            "_view_count": null,
            "_view_module_version": "1.2.0",
            "_model_module": "@jupyter-widgets/controls"
          },
          "model_module_version": "1.5.0"
        },
        "2674bd06edbe46e1813389d930b6f33c": {
          "model_module": "@jupyter-widgets/base",
          "model_name": "LayoutModel",
          "state": {
            "_view_name": "LayoutView",
            "grid_template_rows": null,
            "right": null,
            "justify_content": null,
            "_view_module": "@jupyter-widgets/base",
            "overflow": null,
            "_model_module_version": "1.2.0",
            "_view_count": null,
            "flex_flow": null,
            "width": null,
            "min_width": null,
            "border": null,
            "align_items": null,
            "bottom": null,
            "_model_module": "@jupyter-widgets/base",
            "top": null,
            "grid_column": null,
            "overflow_y": null,
            "overflow_x": null,
            "grid_auto_flow": null,
            "grid_area": null,
            "grid_template_columns": null,
            "flex": null,
            "_model_name": "LayoutModel",
            "justify_items": null,
            "grid_row": null,
            "max_height": null,
            "align_content": null,
            "visibility": null,
            "align_self": null,
            "height": null,
            "min_height": null,
            "padding": null,
            "grid_auto_rows": null,
            "grid_gap": null,
            "max_width": null,
            "order": null,
            "_view_module_version": "1.2.0",
            "grid_template_areas": null,
            "object_position": null,
            "object_fit": null,
            "grid_auto_columns": null,
            "margin": null,
            "display": null,
            "left": null
          },
          "model_module_version": "1.2.0"
        }
      }
    }
  },
  "cells": [
    {
      "cell_type": "markdown",
      "metadata": {
        "id": "view-in-github",
        "colab_type": "text"
      },
      "source": [
        "<a href=\"https://colab.research.google.com/github/Xueying-Ya/Tort-case-analysis/blob/main/Siamese-Neural-network/Siamese_base_line(Maxent).ipynb\" target=\"_parent\"><img src=\"https://colab.research.google.com/assets/colab-badge.svg\" alt=\"Open In Colab\"/></a>"
      ]
    },
    {
      "cell_type": "code",
      "metadata": {
        "trusted": true,
        "colab": {
          "base_uri": "https://localhost:8080/"
        },
        "id": "3WMuVy0FLrax",
        "outputId": "15709cfd-ce5f-4760-b525-ee1e880a4df9"
      },
      "source": [
        "!pip install pythainlp "
      ],
      "execution_count": null,
      "outputs": [
        {
          "output_type": "stream",
          "text": [
            "Collecting pythainlp\n",
            "\u001b[?25l  Downloading https://files.pythonhosted.org/packages/6e/e7/837dd9ab52fac889af830dc094a1598251f70004a2f1707ab0ff8dc0f63a/pythainlp-2.3.1-py3-none-any.whl (11.0MB)\n",
            "\u001b[K     |████████████████████████████████| 11.0MB 6.1MB/s \n",
            "\u001b[?25hRequirement already satisfied: requests>=2.22.0 in /usr/local/lib/python3.7/dist-packages (from pythainlp) (2.23.0)\n",
            "Collecting tinydb>=3.0\n",
            "  Downloading https://files.pythonhosted.org/packages/af/cd/1ce3d93818cdeda0446b8033d21e5f32daeb3a866bbafd878a9a62058a9c/tinydb-4.4.0-py3-none-any.whl\n",
            "Collecting python-crfsuite>=0.9.6\n",
            "\u001b[?25l  Downloading https://files.pythonhosted.org/packages/79/47/58f16c46506139f17de4630dbcfb877ce41a6355a1bbf3c443edb9708429/python_crfsuite-0.9.7-cp37-cp37m-manylinux1_x86_64.whl (743kB)\n",
            "\u001b[K     |████████████████████████████████| 747kB 45.6MB/s \n",
            "\u001b[?25hRequirement already satisfied: idna<3,>=2.5 in /usr/local/lib/python3.7/dist-packages (from requests>=2.22.0->pythainlp) (2.10)\n",
            "Requirement already satisfied: certifi>=2017.4.17 in /usr/local/lib/python3.7/dist-packages (from requests>=2.22.0->pythainlp) (2020.12.5)\n",
            "Requirement already satisfied: urllib3!=1.25.0,!=1.25.1,<1.26,>=1.21.1 in /usr/local/lib/python3.7/dist-packages (from requests>=2.22.0->pythainlp) (1.24.3)\n",
            "Requirement already satisfied: chardet<4,>=3.0.2 in /usr/local/lib/python3.7/dist-packages (from requests>=2.22.0->pythainlp) (3.0.4)\n",
            "Installing collected packages: tinydb, python-crfsuite, pythainlp\n",
            "Successfully installed pythainlp-2.3.1 python-crfsuite-0.9.7 tinydb-4.4.0\n"
          ],
          "name": "stdout"
        }
      ]
    },
    {
      "cell_type": "code",
      "metadata": {
        "trusted": true,
        "colab": {
          "base_uri": "https://localhost:8080/"
        },
        "id": "-QcUSpPJLray",
        "outputId": "c42532df-0f83-464d-8570-d3e607dc925a"
      },
      "source": [
        "!pip install attacut"
      ],
      "execution_count": null,
      "outputs": [
        {
          "output_type": "stream",
          "text": [
            "Collecting attacut\n",
            "\u001b[?25l  Downloading https://files.pythonhosted.org/packages/f6/56/4ab7204bde7468be65d047578192975035d9bc4e786990a407a28a8f75b8/attacut-1.0.6-py3-none-any.whl (1.3MB)\n",
            "\u001b[K     |████████████████████████████████| 1.3MB 5.1MB/s \n",
            "\u001b[?25hCollecting pyyaml>=5.1.2\n",
            "\u001b[?25l  Downloading https://files.pythonhosted.org/packages/7a/a5/393c087efdc78091afa2af9f1378762f9821c9c1d7a22c5753fb5ac5f97a/PyYAML-5.4.1-cp37-cp37m-manylinux1_x86_64.whl (636kB)\n",
            "\u001b[K     |████████████████████████████████| 645kB 18.5MB/s \n",
            "\u001b[?25hCollecting nptyping>=0.2.0\n",
            "  Downloading https://files.pythonhosted.org/packages/ad/5b/e8c90a98b8462768ca43ad43021d404b81430fde28a6e8f93a8101fe9a8f/nptyping-1.4.1-py3-none-any.whl\n",
            "Requirement already satisfied: six>=1.12.0 in /usr/local/lib/python3.7/dist-packages (from attacut) (1.15.0)\n",
            "Requirement already satisfied: numpy>=1.17.0 in /usr/local/lib/python3.7/dist-packages (from attacut) (1.19.5)\n",
            "Requirement already satisfied: torch>=1.2.0 in /usr/local/lib/python3.7/dist-packages (from attacut) (1.8.1+cu101)\n",
            "Collecting fire>=0.1.3\n",
            "\u001b[?25l  Downloading https://files.pythonhosted.org/packages/11/07/a119a1aa04d37bc819940d95ed7e135a7dcca1c098123a3764a6dcace9e7/fire-0.4.0.tar.gz (87kB)\n",
            "\u001b[K     |████████████████████████████████| 92kB 7.0MB/s \n",
            "\u001b[?25hCollecting ssg>=0.0.4\n",
            "\u001b[?25l  Downloading https://files.pythonhosted.org/packages/06/2b/9cf956a0088f44895d20ab0aa008d8f87cc1b1a210af14601aaf72dec729/ssg-0.0.6-py3-none-any.whl (473kB)\n",
            "\u001b[K     |████████████████████████████████| 481kB 23.3MB/s \n",
            "\u001b[?25hRequirement already satisfied: docopt>=0.6.2 in /usr/local/lib/python3.7/dist-packages (from attacut) (0.6.2)\n",
            "Collecting typish>=1.7.0\n",
            "\u001b[?25l  Downloading https://files.pythonhosted.org/packages/24/a7/83e450157d1613be0725821f8bd8aadab22217fa5dac4795dcfb9408be95/typish-1.9.2-py3-none-any.whl (45kB)\n",
            "\u001b[K     |████████████████████████████████| 51kB 5.3MB/s \n",
            "\u001b[?25hRequirement already satisfied: typing-extensions in /usr/local/lib/python3.7/dist-packages (from torch>=1.2.0->attacut) (3.7.4.3)\n",
            "Requirement already satisfied: termcolor in /usr/local/lib/python3.7/dist-packages (from fire>=0.1.3->attacut) (1.1.0)\n",
            "Requirement already satisfied: tqdm>=4.32.2 in /usr/local/lib/python3.7/dist-packages (from ssg>=0.0.4->attacut) (4.41.1)\n",
            "Requirement already satisfied: python-crfsuite>=0.9.6 in /usr/local/lib/python3.7/dist-packages (from ssg>=0.0.4->attacut) (0.9.7)\n",
            "Building wheels for collected packages: fire\n",
            "  Building wheel for fire (setup.py) ... \u001b[?25l\u001b[?25hdone\n",
            "  Created wheel for fire: filename=fire-0.4.0-py2.py3-none-any.whl size=115928 sha256=fcdd417fbdc8a95a4d8a9465428ed29a12d5eb5ce28a073db16f455f20d4f5c4\n",
            "  Stored in directory: /root/.cache/pip/wheels/af/19/30/1ea0cad502dcb4e66ed5a690279628c827aea38bbbab75d5ed\n",
            "Successfully built fire\n",
            "Installing collected packages: pyyaml, typish, nptyping, fire, ssg, attacut\n",
            "  Found existing installation: PyYAML 3.13\n",
            "    Uninstalling PyYAML-3.13:\n",
            "      Successfully uninstalled PyYAML-3.13\n",
            "Successfully installed attacut-1.0.6 fire-0.4.0 nptyping-1.4.1 pyyaml-5.4.1 ssg-0.0.6 typish-1.9.2\n"
          ],
          "name": "stdout"
        }
      ]
    },
    {
      "cell_type": "code",
      "metadata": {
        "trusted": true,
        "id": "f4ycmja0Lray"
      },
      "source": [
        "from pythainlp import word_tokenize\n",
        "from pythainlp.tokenize import attacut\n",
        "from collections import Counter\n",
        "import pandas as pd\n",
        "import numpy as np\n",
        "from sklearn.model_selection import train_test_split\n",
        "from sklearn.metrics import classification_report, precision_recall_fscore_support, f1_score, precision_score, recall_score,confusion_matrix\n",
        "import json"
      ],
      "execution_count": null,
      "outputs": []
    },
    {
      "cell_type": "code",
      "metadata": {
        "trusted": true,
        "id": "qaKNlmShLra7"
      },
      "source": [
        "from tensorflow.keras.callbacks import EarlyStopping, ModelCheckpoint\n",
        "from sklearn.feature_extraction.text import CountVectorizer, TfidfTransformer, TfidfVectorizer\n",
        "from sklearn.naive_bayes import MultinomialNB\n",
        "from sklearn.linear_model import LogisticRegression\n",
        "from sklearn.pipeline import FeatureUnion\n",
        "from sklearn.feature_extraction import DictVectorizer\n",
        "import sklearn.model_selection"
      ],
      "execution_count": null,
      "outputs": []
    },
    {
      "cell_type": "markdown",
      "source": [
        "#Feature engineering functions"
      ],
      "metadata": {
        "id": "Fs5go4_qw8Kv"
      }
    },
    {
      "cell_type": "code",
      "metadata": {
        "_uuid": "8f2839f25d086af736a60e9eeb907d3b93b6e0e5",
        "_cell_guid": "b1076dfc-b9ad-4769-8c92-a6c4dae69d19",
        "trusted": true,
        "id": "i8CY12RvLray"
      },
      "source": [
        "def word_overlap(s1,s2):\n",
        "    overlap_token = set(s1) & set(s2)\n",
        "    return Counter(overlap_token)"
      ],
      "execution_count": null,
      "outputs": []
    },
    {
      "cell_type": "code",
      "metadata": {
        "trusted": true,
        "colab": {
          "base_uri": "https://localhost:8080/"
        },
        "id": "3Hw6d2lZLraz",
        "outputId": "3dee6678-ff17-4a27-d52e-48ebbe537f90"
      },
      "source": [
        "word_overlap(word_tokenize('สวัสดีปีใหม่ท้องฟ้าแจ่มใสมากๆเลย',engine = \"attacut\") , word_tokenize('สวัสดีอยู่บ้านจ้า',engine = \"attacut\"))"
      ],
      "execution_count": null,
      "outputs": [
        {
          "output_type": "execute_result",
          "data": {
            "text/plain": [
              "Counter({'สวัสดี': 1})"
            ]
          },
          "metadata": {
            "tags": []
          },
          "execution_count": 6
        }
      ]
    },
    {
      "cell_type": "code",
      "metadata": {
        "trusted": true,
        "id": "IBAuGpYVLraz"
      },
      "source": [
        "def word_cross_product(s1,s2,feature_list):\n",
        "    hyponyms = []\n",
        "    hypernyms = []\n",
        "    result = list(set([(token1 + '_' +token2) for token1 in s1 for token2 in s2]))\n",
        "    if 'wordnet_feature_po' in feature_list:\n",
        "        hyponyms = wordnet_feature('hyponyms',result)\n",
        "        \n",
        "    if 'wordnet_feature_per' in feature_list:\n",
        "        hypernyms = wordnet_feature('hypernyms',result)\n",
        "    result.extend(hyponyms + hypernyms)\n",
        "    return Counter(result)"
      ],
      "execution_count": null,
      "outputs": []
    },
    {
      "cell_type": "code",
      "metadata": {
        "trusted": true,
        "colab": {
          "base_uri": "https://localhost:8080/"
        },
        "id": "is0km-OZLra0",
        "outputId": "308dcd95-b278-43c2-8bf6-cea3de6ee085"
      },
      "source": [
        "from pythainlp.corpus import wordnet\n",
        "def wordnet_feature(method,product_list):\n",
        "    pairs = set()\n",
        "    for key in list(product_list):\n",
        "        w1 = key.split('_')[0]\n",
        "        w2 = key.split('_')[1]\n",
        "        if wordnet.synsets(w1) != [] and wordnet.synsets(w2) != []:\n",
        "            hyps = sum([ss.lemma_names('tha') for ss in getattr(wordnet.synsets(w1)[0],method)()],[])\n",
        "            syns = wordnet.synsets(w2)[0].lemma_names('tha')\n",
        "            if set(hyps) & set(syns):\n",
        "                pairs.add(w1 + '_' + w2)\n",
        "            if len(w1) != len(w2) and (w1 in w2 or w2 in w1): #Ex กษัตริย์ กับ กษัตริย์สเปน\n",
        "                pairs.add(w1 + '_' + w2)\n",
        "    return list(pairs)"
      ],
      "execution_count": null,
      "outputs": [
        {
          "output_type": "stream",
          "text": [
            "[nltk_data] Downloading package omw to /root/nltk_data...\n",
            "[nltk_data]   Unzipping corpora/omw.zip.\n",
            "[nltk_data] Downloading package wordnet to /root/nltk_data...\n",
            "[nltk_data]   Unzipping corpora/wordnet.zip.\n"
          ],
          "name": "stdout"
        }
      ]
    },
    {
      "cell_type": "code",
      "metadata": {
        "trusted": true,
        "id": "NmCi4mrILra0",
        "colab": {
          "base_uri": "https://localhost:8080/"
        },
        "outputId": "3f309364-395c-45c5-8da7-cda0e51641ac"
      },
      "source": [
        "word_cross_product(word_tokenize('สวัสดีปีใหม่ท้องฟ้าแจ่มใสมากๆเลย',engine = \"attacut\") , word_tokenize('สวัสดีอยู่บ้านจ้า',engine = \"attacut\"),['word_overlap' , 'word_cross_product' , 'wordnet_feature_po', 'wordnet_feature_per' ] )"
      ],
      "execution_count": null,
      "outputs": [
        {
          "output_type": "execute_result",
          "data": {
            "text/plain": [
              "Counter({'ท้อง_จ้า': 1,\n",
              "         'ท้อง_บ้าน': 1,\n",
              "         'ท้อง_สวัสดี': 1,\n",
              "         'ท้อง_อยู่': 1,\n",
              "         'ปี_จ้า': 1,\n",
              "         'ปี_บ้าน': 1,\n",
              "         'ปี_สวัสดี': 1,\n",
              "         'ปี_อยู่': 1,\n",
              "         'ฟ้า_จ้า': 1,\n",
              "         'ฟ้า_บ้าน': 1,\n",
              "         'ฟ้า_สวัสดี': 1,\n",
              "         'ฟ้า_อยู่': 1,\n",
              "         'มาก_จ้า': 1,\n",
              "         'มาก_บ้าน': 1,\n",
              "         'มาก_สวัสดี': 1,\n",
              "         'มาก_อยู่': 1,\n",
              "         'สวัสดี_จ้า': 1,\n",
              "         'สวัสดี_บ้าน': 1,\n",
              "         'สวัสดี_สวัสดี': 1,\n",
              "         'สวัสดี_อยู่': 1,\n",
              "         'เลย_จ้า': 1,\n",
              "         'เลย_บ้าน': 1,\n",
              "         'เลย_สวัสดี': 1,\n",
              "         'เลย_อยู่': 1,\n",
              "         'แจ่มใส_จ้า': 1,\n",
              "         'แจ่มใส_บ้าน': 1,\n",
              "         'แจ่มใส_สวัสดี': 1,\n",
              "         'แจ่มใส_อยู่': 1,\n",
              "         'ใหม่_จ้า': 1,\n",
              "         'ใหม่_บ้าน': 1,\n",
              "         'ใหม่_สวัสดี': 1,\n",
              "         'ใหม่_อยู่': 1,\n",
              "         'ๆ_จ้า': 1,\n",
              "         'ๆ_บ้าน': 1,\n",
              "         'ๆ_สวัสดี': 1,\n",
              "         'ๆ_อยู่': 1})"
            ]
          },
          "metadata": {
            "tags": []
          },
          "execution_count": 9
        }
      ]
    },
    {
      "cell_type": "code",
      "metadata": {
        "trusted": true,
        "colab": {
          "base_uri": "https://localhost:8080/"
        },
        "id": "8wBq4ccZLra0",
        "outputId": "73805b3c-6485-4f4e-967c-0729d33e7631"
      },
      "source": [
        "wordnet.synsets('ราชา')[0].lemma_names('tha')"
      ],
      "execution_count": null,
      "outputs": [
        {
          "output_type": "execute_result",
          "data": {
            "text/plain": [
              "['ราชา', 'พระราชา', 'กษัตริย์', 'พระมหากษัตริย์']"
            ]
          },
          "metadata": {
            "tags": []
          },
          "execution_count": 10
        }
      ]
    },
    {
      "cell_type": "code",
      "metadata": {
        "trusted": true,
        "colab": {
          "base_uri": "https://localhost:8080/"
        },
        "id": "6Ktl4QpaLra1",
        "outputId": "ddb3cac0-03de-4327-b2af-96c7377a489c"
      },
      "source": [
        "wordnet.synsets('ราชา')[0].hyponyms()"
      ],
      "execution_count": null,
      "outputs": [
        {
          "output_type": "execute_result",
          "data": {
            "text/plain": [
              "[Synset('king_of_england.n.01'),\n",
              " Synset('king_of_france.n.01'),\n",
              " Synset('king_of_the_germans.n.01')]"
            ]
          },
          "metadata": {
            "tags": []
          },
          "execution_count": 11
        }
      ]
    },
    {
      "cell_type": "code",
      "metadata": {
        "trusted": true,
        "colab": {
          "base_uri": "https://localhost:8080/"
        },
        "id": "c5KiGJV5Lra1",
        "outputId": "d888210d-3068-40bc-803b-08430a6091ec"
      },
      "source": [
        "getattr(wordnet.synsets('ราชา')[0],'hyponyms')()"
      ],
      "execution_count": null,
      "outputs": [
        {
          "output_type": "execute_result",
          "data": {
            "text/plain": [
              "[Synset('king_of_england.n.01'),\n",
              " Synset('king_of_france.n.01'),\n",
              " Synset('king_of_the_germans.n.01')]"
            ]
          },
          "metadata": {
            "tags": []
          },
          "execution_count": 12
        }
      ]
    },
    {
      "cell_type": "code",
      "metadata": {
        "trusted": true,
        "colab": {
          "base_uri": "https://localhost:8080/"
        },
        "id": "AYc3JbBBLra1",
        "outputId": "73c67a43-1f08-4f3a-98a0-76b4e4c5b6b0"
      },
      "source": [
        "wordnet_feature('hyponyms', word_cross_product(['ราชา'],['พระราชา'],['word_overlap' , 'word_cross_product' , 'wordnet_feature_po', 'wordnet_feature_per' ]))"
      ],
      "execution_count": null,
      "outputs": [
        {
          "output_type": "execute_result",
          "data": {
            "text/plain": [
              "['ราชา_พระราชา']"
            ]
          },
          "metadata": {
            "tags": []
          },
          "execution_count": 13
        }
      ]
    },
    {
      "cell_type": "code",
      "metadata": {
        "trusted": true,
        "colab": {
          "base_uri": "https://localhost:8080/"
        },
        "id": "jIq3ph8OLra1",
        "outputId": "62896069-a943-4143-a5cd-f130815691db"
      },
      "source": [
        "for ss in getattr(wordnet.synsets('ราชา')[0],'hyponyms')():\n",
        "        word = str(ss)[7:len(str(ss))-1]\n",
        "        print(ss.lemma_names('tha'))\n",
        "       "
      ],
      "execution_count": null,
      "outputs": [
        {
          "output_type": "stream",
          "text": [
            "['กษัตริย์อังกฤษ']\n",
            "['กษัตริย์ฝรั่งเศส']\n",
            "['กษัตริย์เยอรมัน']\n"
          ],
          "name": "stdout"
        }
      ]
    },
    {
      "cell_type": "code",
      "metadata": {
        "trusted": true,
        "colab": {
          "base_uri": "https://localhost:8080/"
        },
        "id": "euxttR0uLra2",
        "outputId": "9b3029f2-ba5a-4f1c-896f-09677083212a"
      },
      "source": [
        "print(wordnet.synset('king_of_france.n.01').lemma_names('tha'))  "
      ],
      "execution_count": null,
      "outputs": [
        {
          "output_type": "stream",
          "text": [
            "['กษัตริย์ฝรั่งเศส']\n"
          ],
          "name": "stdout"
        }
      ]
    },
    {
      "cell_type": "markdown",
      "metadata": {
        "id": "JcgH6bn9Lra2"
      },
      "source": [
        "# Data preparation"
      ]
    },
    {
      "cell_type": "code",
      "metadata": {
        "trusted": true,
        "id": "oKa52gaVLra2"
      },
      "source": [
        "def load_fasttext_fast(word_index, max_words, embed_size,file_name = \"../input/word-vec-thai/cc.th.300.vec\"):\n",
        "    EMBEDDING_FILE = file_name\n",
        "    emb_mean, emb_std = -0.0033470048, 0.109855264\n",
        "\n",
        "    embedding_matrix = np.random.normal(emb_mean, emb_std, (max_words, embed_size))\n",
        "    with open(EMBEDDING_FILE, 'r', encoding=\"utf8\") as f:       \n",
        "        for line in f:\n",
        "            if len(line) <= 100:\n",
        "                continue\n",
        "            word, vec = line.split(' ', 1)\n",
        "            if word not in word_index:\n",
        "                continue\n",
        "            i = word_index[word]\n",
        "            if i >= max_words:\n",
        "                continue\n",
        "            embedding_vector = np.asarray(vec.split(' '), dtype='float32')[:300]\n",
        "            if len(embedding_vector) == 300:\n",
        "                embedding_matrix[i] = embedding_vector\n",
        "    return embedding_matrix"
      ],
      "execution_count": null,
      "outputs": []
    },
    {
      "cell_type": "code",
      "metadata": {
        "trusted": true,
        "id": "n6f8p2ChLra3"
      },
      "source": [
        "import string\n",
        "def process_input(num_words, X_train, X_test, X_dev):\n",
        "    tokenizer = tf.keras.preprocessing.text.Tokenizer(num_words=num_words, oov_token='<UNK>') \n",
        "    tokenizer.fit_on_texts(X_train)\n",
        "\n",
        "    #convert text data to numerical indexes\n",
        "    train_seqs = tokenizer.texts_to_sequences(X_train)\n",
        "    dev_seqs = tokenizer.texts_to_sequences(X_dev)\n",
        "    test_seqs = tokenizer.texts_to_sequences(X_test)\n",
        "\n",
        "    max_sequnce_len = max([len(x) for x in train_seqs])\n",
        "\n",
        "    train_seqs = tf.keras.preprocessing.sequence.pad_sequences(train_seqs, maxlen=max_sequnce_len, padding=\"post\")\n",
        "    test_seqs=tf.keras.preprocessing.sequence.pad_sequences(test_seqs, maxlen=max_sequnce_len, padding=\"post\")\n",
        "    dev_seqs=tf.keras.preprocessing.sequence.pad_sequences(dev_seqs, maxlen=max_sequnce_len, padding=\"post\")\n",
        "\n",
        "    return  train_seqs, test_seqs, dev_seqs, max_sequnce_len, tokenizer"
      ],
      "execution_count": null,
      "outputs": []
    },
    {
      "cell_type": "code",
      "metadata": {
        "trusted": true,
        "colab": {
          "base_uri": "https://localhost:8080/",
          "height": 279
        },
        "id": "H_D9vOZ4Lra3",
        "outputId": "d549ecca-c9b1-4a41-8e27-4cc9da125257"
      },
      "source": [
        "df = pd.read_pickle('/content/drive/MyDrive/legal_tech_2021/processed_torts20210321.pkl')\n",
        "df.head()"
      ],
      "execution_count": null,
      "outputs": [
        {
          "output_type": "execute_result",
          "data": {
            "text/html": [
              "<div>\n",
              "<style scoped>\n",
              "    .dataframe tbody tr th:only-of-type {\n",
              "        vertical-align: middle;\n",
              "    }\n",
              "\n",
              "    .dataframe tbody tr th {\n",
              "        vertical-align: top;\n",
              "    }\n",
              "\n",
              "    .dataframe thead th {\n",
              "        text-align: right;\n",
              "    }\n",
              "</style>\n",
              "<table border=\"1\" class=\"dataframe\">\n",
              "  <thead>\n",
              "    <tr style=\"text-align: right;\">\n",
              "      <th></th>\n",
              "      <th>legal_encoded</th>\n",
              "      <th>case_id</th>\n",
              "      <th>plaintiff_token</th>\n",
              "      <th>defendant_token</th>\n",
              "      <th>legal_name</th>\n",
              "      <th>legal_section</th>\n",
              "      <th>legal_content_token</th>\n",
              "    </tr>\n",
              "  </thead>\n",
              "  <tbody>\n",
              "    <tr>\n",
              "      <th>0</th>\n",
              "      <td>687</td>\n",
              "      <td>2539###439</td>\n",
              "      <td>[โจทก์, ฟ้อง, ว่า,  , เดิม, โจทก์, ถูก, ฟ้อง, ...</td>\n",
              "      <td>[จำเลย, ที่,  , 1,  , ให้การ, ว่า,  , โจทก์, ไ...</td>\n",
              "      <td>ประมวลกฎหมายแพ่งและพาณิชย์</td>\n",
              "      <td>420</td>\n",
              "      <td>[ผู้, ใด, จงใจ, หรือ, ประมาท, เลินเล่อทำ, ต่อ,...</td>\n",
              "    </tr>\n",
              "    <tr>\n",
              "      <th>1</th>\n",
              "      <td>251</td>\n",
              "      <td>2539###439</td>\n",
              "      <td>[โจทก์, ฟ้อง, ว่า,  , เดิม, โจทก์, ถูก, ฟ้อง, ...</td>\n",
              "      <td>[จำเลย, ที่,  , 1,  , ให้การ, ว่า,  , โจทก์, ไ...</td>\n",
              "      <td>ประมวลกฎหมายวิธีพิจารณาความแพ่ง</td>\n",
              "      <td>55</td>\n",
              "      <td>[เมื่อ, มี, ข้อ, โต้แย้ง, เกิด, ขึ้น, เกี่ยว, ...</td>\n",
              "    </tr>\n",
              "    <tr>\n",
              "      <th>2</th>\n",
              "      <td>257</td>\n",
              "      <td>2539###439</td>\n",
              "      <td>[โจทก์, ฟ้อง, ว่า,  , เดิม, โจทก์, ถูก, ฟ้อง, ...</td>\n",
              "      <td>[จำเลย, ที่,  , 1,  , ให้การ, ว่า,  , โจทก์, ไ...</td>\n",
              "      <td>ประมวลกฎหมายวิธีพิจารณาความแพ่ง</td>\n",
              "      <td>60</td>\n",
              "      <td>[คู่, ความ, ฝ่าย, ใด, ฝ่าย, หนึ่ง, หรือ, ผู้, ...</td>\n",
              "    </tr>\n",
              "    <tr>\n",
              "      <th>3</th>\n",
              "      <td>259</td>\n",
              "      <td>2539###439</td>\n",
              "      <td>[โจทก์, ฟ้อง, ว่า,  , เดิม, โจทก์, ถูก, ฟ้อง, ...</td>\n",
              "      <td>[จำเลย, ที่,  , 1,  , ให้การ, ว่า,  , โจทก์, ไ...</td>\n",
              "      <td>ประมวลกฎหมายวิธีพิจารณาความแพ่ง</td>\n",
              "      <td>62</td>\n",
              "      <td>[ทนายความ, ซึ่ง, คู่, ความ, ได้, ตั้ง, แต่ง, น...</td>\n",
              "    </tr>\n",
              "    <tr>\n",
              "      <th>4</th>\n",
              "      <td>135</td>\n",
              "      <td>2539###439</td>\n",
              "      <td>[โจทก์, ฟ้อง, ว่า,  , เดิม, โจทก์, ถูก, ฟ้อง, ...</td>\n",
              "      <td>[จำเลย, ที่,  , 1,  , ให้การ, ว่า,  , โจทก์, ไ...</td>\n",
              "      <td>ประมวลกฎหมายวิธีพิจารณาความแพ่ง</td>\n",
              "      <td>142</td>\n",
              "      <td>[คำ, พิพากษา, หรือ, คำ, สั่ง, ของ, ศาล, ที่, ช...</td>\n",
              "    </tr>\n",
              "  </tbody>\n",
              "</table>\n",
              "</div>"
            ],
            "text/plain": [
              "   legal_encoded  ...                                legal_content_token\n",
              "0            687  ...  [ผู้, ใด, จงใจ, หรือ, ประมาท, เลินเล่อทำ, ต่อ,...\n",
              "1            251  ...  [เมื่อ, มี, ข้อ, โต้แย้ง, เกิด, ขึ้น, เกี่ยว, ...\n",
              "2            257  ...  [คู่, ความ, ฝ่าย, ใด, ฝ่าย, หนึ่ง, หรือ, ผู้, ...\n",
              "3            259  ...  [ทนายความ, ซึ่ง, คู่, ความ, ได้, ตั้ง, แต่ง, น...\n",
              "4            135  ...  [คำ, พิพากษา, หรือ, คำ, สั่ง, ของ, ศาล, ที่, ช...\n",
              "\n",
              "[5 rows x 7 columns]"
            ]
          },
          "metadata": {
            "tags": []
          },
          "execution_count": 19
        }
      ]
    },
    {
      "cell_type": "code",
      "metadata": {
        "trusted": true,
        "id": "cmJf9c1sLra4"
      },
      "source": [
        "idx = {251 : 'ประมวลกฎหมายวิธีพิจารณาความแพ่ง 55',\n",
        "692 : 'ประมวลกฎหมายแพ่งและพาณิชย์ 425',\n",
        "704 : 'ประมวลกฎหมายแพ่งและพาณิชย์ 438',\n",
        "154 : 'ประมวลกฎหมายวิธีพิจารณาความแพ่ง 172',\n",
        "135 : 'ประมวลกฎหมายวิธีพิจารณาความแพ่ง 142',\n",
        "715 : 'ประมวลกฎหมายแพ่งและพาณิชย์ 448',\n",
        "688 : 'ประมวลกฎหมายแพ่งและพาณิชย์ 421',\n",
        "202 : 'ประมวลกฎหมายวิธีพิจารณาความแพ่ง 249',\n",
        "100 : 'ประมวลกฎหมายวิธีพิจารณาความอาญา 46',\n",
        "417 :  'ประมวลกฎหมายแพ่งและพาณิชย์ 1336'}"
      ],
      "execution_count": null,
      "outputs": []
    },
    {
      "cell_type": "code",
      "metadata": {
        "trusted": true,
        "id": "_sYxDTumLra4"
      },
      "source": [
        "sorted_idx = list(idx.keys())"
      ],
      "execution_count": null,
      "outputs": []
    },
    {
      "cell_type": "code",
      "metadata": {
        "trusted": true,
        "id": "zgaZl25DLra4"
      },
      "source": [
        "def get_data(file = '../input/legal-01042021/filt_df.pickle'):\n",
        "    X = [] \n",
        "    Y = []\n",
        "    legal_encoded_seq = []\n",
        "    filt_df = pd.read_pickle(file)\n",
        "    for i,row in filt_df.iterrows():\n",
        "        x = row['plaintiff_token']\n",
        "        x2 = row['legal_content_token']\n",
        "        X.append([x, x2])\n",
        "        Y.append(row['label'])\n",
        "        legal_encoded_seq.append(row['legal_encoded'])\n",
        "    X = np.array(X ,dtype=object)\n",
        "    Y = np.array(Y)\n",
        "    print('X:'+ str(X.shape),'Y:'+str(Y.shape),'legal_encoded_seq: ' + str(len(legal_encoded_seq)))\n",
        "    return X,Y,legal_encoded_seq"
      ],
      "execution_count": null,
      "outputs": []
    },
    {
      "cell_type": "code",
      "metadata": {
        "trusted": true,
        "id": "B94V1Nn6Lra5"
      },
      "source": [
        "def split_by_id(df,label):\n",
        "    positive_df = df[df['legal_encoded'] == label]\n",
        "    negative_df = df[~df.case_id.isin(positive_df.case_id)]\n",
        "    positive_df['label'] = 1\n",
        "    negative_df['label'] = 0\n",
        "    x2 = df[df['legal_encoded'] == label].iloc[0].legal_content_token\n",
        "    label_df = pd.concat([positive_df, negative_df], ignore_index=True, sort=False)\n",
        "    \n",
        "    train_indx, rest_indx = next(sklearn.model_selection.GroupShuffleSplit(test_size=.30, n_splits=2, random_state = 42).split(label_df, groups= label_df['case_id']))\n",
        "    rest_df = label_df.iloc[rest_indx]\n",
        "    dev_indx,test_indx = next(sklearn.model_selection.GroupShuffleSplit(test_size=.50, n_splits=2, random_state = 42).split(rest_df, groups=rest_df['case_id']))\n",
        "\n",
        "    train = label_df.iloc[train_indx]\n",
        "    dev = rest_df.iloc[dev_indx]\n",
        "    test = rest_df.iloc[test_indx]\n",
        "    \n",
        "    def get_data_by_id(df,x2):\n",
        "        X = [] \n",
        "        Y = []\n",
        "    \n",
        "        for i,row in df.iterrows():\n",
        "            x = row['plaintiff_token']\n",
        "            X.append([x, x2])\n",
        "            Y.append(row['label'])\n",
        "        X = np.array(X ,dtype=object)\n",
        "        Y = np.array(Y)\n",
        "        print('X:'+ str(X.shape),'Y:'+str(Y.shape))\n",
        "        return X,Y\n",
        "    \n",
        "    X_train,Y_train = get_data_by_id(train,x2)\n",
        "    X_dev,Y_dev = get_data_by_id(dev,x2)\n",
        "    X_test,Y_test = get_data_by_id(test,x2)\n",
        "    \n",
        "    return X_train,Y_train,X_dev,Y_dev,X_test,Y_test"
      ],
      "execution_count": null,
      "outputs": []
    },
    {
      "cell_type": "code",
      "metadata": {
        "trusted": true,
        "id": "xyeXnklSLra5"
      },
      "source": [
        "from tqdm import tqdm_notebook as tqdm\n",
        "def featurized(array1,array2,feature_list = ['word_overlap' , 'word_cross_product' , 'wordnet_feature_po', 'wordnet_feature_per' ]):\n",
        "    #word_overlap , word_cross_product , wordnet_feature [hyponyms , hypernyms] \n",
        "    \"\"\"Ex : feature_list = ['word_overlap' , 'word_cross_product' , 'wordnet_feature_po', 'wordnet_feature_per' ]\"\"\"\n",
        "    feature_dict_seq = []\n",
        "    for s1,s2 in tqdm(zip(array1,array2)): \n",
        "        feature_dict = {}\n",
        "        \n",
        "    #word_overlap\n",
        "        if 'word_overlap' in feature_list: \n",
        "            feature_dict.update(dict(word_overlap(s1,s2)))\n",
        "\n",
        "    #word_cross_product + wordnet_feature [hyponyms , hypernyms] \n",
        "        if 'word_cross_product' in feature_list:\n",
        "            feature_dict.update(dict(word_cross_product(s1,s2,feature_list)))\n",
        "        \n",
        "        feature_dict_seq.append(feature_dict)\n",
        "\n",
        "    return feature_dict_seq"
      ],
      "execution_count": null,
      "outputs": []
    },
    {
      "cell_type": "markdown",
      "source": [
        "# Evaluation functions"
      ],
      "metadata": {
        "id": "d-wH4MD8xtEc"
      }
    },
    {
      "cell_type": "code",
      "metadata": {
        "trusted": true,
        "id": "89unu2JdLra5"
      },
      "source": [
        "def recall(y_pred,y_true,legal_encoded_seq):\n",
        "    \n",
        "    new_pred = []\n",
        "    new_true = []\n",
        "    TP_dict = Counter()\n",
        "    FN_dict = Counter()\n",
        "    TP = 0\n",
        "    FN = 0\n",
        "    all_score = {key : 0 for key in legal_encoded_seq}\n",
        "    \n",
        "    for i in range(len(y_pred)):\n",
        "        pred = y_pred[i]\n",
        "        true = y_true[i]\n",
        "        legal_encoded = legal_encoded_seq[i]\n",
        "        \n",
        "        if pred == 1:\n",
        "            new_pred.append(legal_encoded)\n",
        "        else:\n",
        "            new_pred.append(0)\n",
        "        \n",
        "        if true == 1:\n",
        "            new_true.append(legal_encoded)\n",
        "        else:\n",
        "            new_true.append(0)\n",
        "            \n",
        "    for label1,label2 in zip(new_pred,new_true):\n",
        "        if label2 != 0 and label1 == label2:\n",
        "            TP_dict[label2] += 1\n",
        "        elif label2 != 0 and label1 != label2:\n",
        "            FN_dict[label2] += 1\n",
        "    \n",
        "     \n",
        "    for legal_encoded in legal_encoded_seq:\n",
        "        TP = TP_dict[legal_encoded]\n",
        "        FN = FN_dict[legal_encoded]\n",
        "        recall = TP / (TP+FN)\n",
        "        all_score[legal_encoded] = recall\n",
        "        \n",
        "    print('recall :')\n",
        "    return all_score"
      ],
      "execution_count": null,
      "outputs": []
    },
    {
      "cell_type": "code",
      "metadata": {
        "trusted": true,
        "id": "jpKQVjk7Lra3"
      },
      "source": [
        "def recall(y_true, y_pred):\n",
        "    true_positives = K.sum(K.round(K.clip(y_true * y_pred, 0, 1)))\n",
        "    possible_positives = K.sum(K.round(K.clip(y_true, 0, 1)))\n",
        "    recall = true_positives / (possible_positives + K.epsilon())\n",
        "    return recall\n",
        "\n",
        "\n",
        "def precision(y_true, y_pred):\n",
        "    true_positives = K.sum(K.round(K.clip(y_true * y_pred, 0, 1)))\n",
        "    predicted_positives = K.sum(K.round(K.clip(y_pred, 0, 1)))\n",
        "    precision = true_positives / (predicted_positives + K.epsilon())\n",
        "    return precision\n",
        "\n",
        "\n",
        "def microf1(y_true, y_pred):\n",
        "\n",
        "    def recall(y_true, y_pred):\n",
        "        true_positives = K.sum(K.round(K.clip(y_true * y_pred, 0, 1)))\n",
        "        possible_positives = K.sum(K.round(K.clip(y_true, 0, 1)))\n",
        "        recall = true_positives / (possible_positives + K.epsilon())\n",
        "        return recall\n",
        "\n",
        "    def precision(y_true, y_pred):\n",
        "        true_positives = K.sum(K.round(K.clip(y_true * y_pred, 0, 1)))\n",
        "        predicted_positives = K.sum(K.round(K.clip(y_pred, 0, 1)))\n",
        "        precision = true_positives / (predicted_positives + K.epsilon())\n",
        "        return precision\n",
        "\n",
        "    precision = precision(y_true, y_pred)\n",
        "    recall = recall(y_true, y_pred)\n",
        "    return 2 * ((precision * recall) / (precision + recall + K.epsilon()))\n",
        "\n",
        "\n",
        "def macrof1(y_true, y_pred):\n",
        "    y_pred = K.round(y_pred)\n",
        "    tp = K.sum(K.cast(y_true * y_pred, 'float'), axis=0)\n",
        "    # tn = K.sum(K.cast((1-y_true)*(1-y_pred), 'float'), axis=0)\n",
        "    fp = K.sum(K.cast((1 - y_true) * y_pred, 'float'), axis=0)\n",
        "    fn = K.sum(K.cast(y_true * (1 - y_pred), 'float'), axis=0)\n",
        "\n",
        "    p = tp / (tp + fp + K.epsilon())\n",
        "    r = tp / (tp + fn + K.epsilon())\n",
        "\n",
        "    f1 = 2 * p * r / (p + r + K.epsilon())\n",
        "    f1 = tf.where(tf.math.is_nan(f1), tf.zeros_like(f1), f1)\n",
        "    return K.mean(f1)\n",
        "\n",
        "def evaluate(y_true,y_pred,legal_encoded_seq) :\n",
        "    all_legal_dict = {key : {'true' : [], 'pred' : []} for key in legal_encoded_seq}\n",
        "    all_score_dict = {key : {} for key in legal_encoded_seq}\n",
        "    \n",
        "    for i in range(len(legal_encoded_seq)) :\n",
        "        true = y_true[i]\n",
        "        pred = y_pred[i]\n",
        "        legal_encoded = legal_encoded_seq[i]\n",
        "        all_legal_dict[legal_encoded]['true'].append(true)\n",
        "        all_legal_dict[legal_encoded]['pred'].append(pred)\n",
        "        \n",
        "    for key in all_legal_dict:\n",
        "        true = all_legal_dict[key]['true']\n",
        "        pred = all_legal_dict[key]['pred']\n",
        "        f1 =  f1_score(true,pred,labels=[1])\n",
        "        precision = precision_score(true,pred,labels=[1])\n",
        "        recall = recall_score(true,pred,labels=[1])\n",
        "        all_score_dict[key]['f1'] = f1\n",
        "        all_score_dict[key]['precision'] = precision\n",
        "        all_score_dict[key]['recall'] = recall\n",
        "\n",
        "    return all_score_dict\n",
        "\n"
      ],
      "execution_count": null,
      "outputs": []
    },
    {
      "cell_type": "markdown",
      "metadata": {
        "id": "7S9J0vZYLra7"
      },
      "source": [
        "# Train Logistic regression"
      ]
    },
    {
      "cell_type": "code",
      "metadata": {
        "trusted": true,
        "id": "4_DHy8lLLra7"
      },
      "source": [
        "label = 100"
      ],
      "execution_count": null,
      "outputs": []
    },
    {
      "cell_type": "code",
      "metadata": {
        "trusted": true,
        "colab": {
          "base_uri": "https://localhost:8080/",
          "height": 450,
          "referenced_widgets": [
            "7284285d93fe4108a6fe57e03cfc6424",
            "a7696fe106a84a50b430fdaf6d6a6afb",
            "a38f99dc32d649d882e961c1d8dee9a2",
            "a8b881cead5f4b08a6d04dc2f84020cc",
            "5d0d690400d64a5a8f4bfcd3b522bff4",
            "b5e38282fe5c48eabf86c5478df55afa",
            "07836c6886744ddfac3d87abc9e7162c",
            "242890ba537b4a9ba46735bb10aa44cc",
            "ce76eb0605844cfbba97411cf801f19d",
            "9e0f8d629222453fa50c1e232b765956",
            "b1e82c9ff2604ece98ab8e7e7c0994b6",
            "2060c385f2d44ffdb8d44b3b8659c008",
            "d0e8a09d09944303bc9ed5b038cd07b6",
            "1f802d68a01f473c901b64569168f966",
            "565522f1c34d4f54a61d73a206e882fd",
            "2674bd06edbe46e1813389d930b6f33c"
          ]
        },
        "id": "wUiLFGzcLra7",
        "outputId": "88bc4d17-9a8b-4594-a823-7db4e38131a2"
      },
      "source": [
        "vectorizer = DictVectorizer(sparse=True)\n",
        "\n",
        "X_train,Y_train,X_dev,Y_dev,X_test,Y_test = split_by_id(df,label)\n",
        "X_train_featurized = featurized(list(X_train[:, 0]),list(X_train[:, 1]))\n",
        "X_train = vectorizer.fit_transform(X_train_featurized)\n",
        "\n",
        "model = LogisticRegression(solver='liblinear', n_jobs=1, verbose=1, random_state=42, C=1e5, penalty='l2', max_iter=2000)\n",
        "model.fit(X_train, Y_train)\n",
        "\n",
        "X_test_featurized = featurized(list(X_test[:, 0]),list(X_test[:, 1]))\n",
        "X_test = vectorizer.transform(X_test_featurized)\n",
        "    \n",
        "print(\"Evaluation\")    \n",
        "\n",
        "y_pred = model.predict(X_test)    "
      ],
      "execution_count": null,
      "outputs": [
        {
          "output_type": "stream",
          "text": [
            "/usr/local/lib/python3.7/dist-packages/ipykernel_launcher.py:4: SettingWithCopyWarning: \n",
            "A value is trying to be set on a copy of a slice from a DataFrame.\n",
            "Try using .loc[row_indexer,col_indexer] = value instead\n",
            "\n",
            "See the caveats in the documentation: https://pandas.pydata.org/pandas-docs/stable/user_guide/indexing.html#returning-a-view-versus-a-copy\n",
            "  after removing the cwd from sys.path.\n",
            "/usr/local/lib/python3.7/dist-packages/ipykernel_launcher.py:5: SettingWithCopyWarning: \n",
            "A value is trying to be set on a copy of a slice from a DataFrame.\n",
            "Try using .loc[row_indexer,col_indexer] = value instead\n",
            "\n",
            "See the caveats in the documentation: https://pandas.pydata.org/pandas-docs/stable/user_guide/indexing.html#returning-a-view-versus-a-copy\n",
            "  \"\"\"\n"
          ],
          "name": "stderr"
        },
        {
          "output_type": "stream",
          "text": [
            "X:(9932, 2) Y:(9932,)\n",
            "X:(2202, 2) Y:(2202,)\n",
            "X:(2298, 2) Y:(2298,)\n"
          ],
          "name": "stdout"
        },
        {
          "output_type": "stream",
          "text": [
            "/usr/local/lib/python3.7/dist-packages/ipykernel_launcher.py:6: TqdmDeprecationWarning: This function will be removed in tqdm==5.0.0\n",
            "Please use `tqdm.notebook.tqdm` instead of `tqdm.tqdm_notebook`\n",
            "  \n"
          ],
          "name": "stderr"
        },
        {
          "output_type": "display_data",
          "data": {
            "application/vnd.jupyter.widget-view+json": {
              "model_id": "7284285d93fe4108a6fe57e03cfc6424",
              "version_minor": 0,
              "version_major": 2
            },
            "text/plain": [
              "HBox(children=(FloatProgress(value=1.0, bar_style='info', max=1.0), HTML(value='')))"
            ]
          },
          "metadata": {
            "tags": []
          }
        },
        {
          "output_type": "stream",
          "text": [
            "\n",
            "[LibLinear]"
          ],
          "name": "stdout"
        },
        {
          "output_type": "display_data",
          "data": {
            "application/vnd.jupyter.widget-view+json": {
              "model_id": "ce76eb0605844cfbba97411cf801f19d",
              "version_minor": 0,
              "version_major": 2
            },
            "text/plain": [
              "HBox(children=(FloatProgress(value=1.0, bar_style='info', max=1.0), HTML(value='')))"
            ]
          },
          "metadata": {
            "tags": []
          }
        },
        {
          "output_type": "stream",
          "text": [
            "\n",
            "Evaluation\n"
          ],
          "name": "stdout"
        }
      ]
    },
    {
      "cell_type": "code",
      "metadata": {
        "trusted": true,
        "id": "PcqXvNA_Lra7",
        "colab": {
          "base_uri": "https://localhost:8080/"
        },
        "outputId": "74f58459-75d0-49e3-ef0d-b66bb587f295"
      },
      "source": [
        "print(label)\n",
        "print(\"Evaluation\")\n",
        "\n",
        "print('f1 : ')\n",
        "print(f1_score(Y_test, y_pred,labels=[1]))  \n",
        "print('------------------------------------------------------------ ')   \n",
        "print('precision : ')\n",
        "print(precision_score(Y_test, y_pred,labels=[1]))   \n",
        "print('------------------------------------------------------------ ')\n",
        "print('recall : ')\n",
        "print(recall_score(Y_test, y_pred,labels=[1]))\n",
        "print('------------------------------------------------------------ ')\n",
        "print(classification_report(Y_test, y_pred))   "
      ],
      "execution_count": null,
      "outputs": [
        {
          "output_type": "stream",
          "text": [
            "100\n",
            "Evaluation\n",
            "f1 : \n",
            "0.0\n",
            "------------------------------------------------------------ \n",
            "precision : \n",
            "0.0\n",
            "------------------------------------------------------------ \n",
            "recall : \n",
            "0.0\n",
            "------------------------------------------------------------ \n",
            "              precision    recall  f1-score   support\n",
            "\n",
            "           0       0.99      0.95      0.97      2280\n",
            "           1       0.00      0.00      0.00        18\n",
            "\n",
            "    accuracy                           0.94      2298\n",
            "   macro avg       0.50      0.48      0.49      2298\n",
            "weighted avg       0.98      0.94      0.96      2298\n",
            "\n"
          ],
          "name": "stdout"
        }
      ]
    }
  ]
}